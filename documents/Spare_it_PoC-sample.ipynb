{
  "cells": [
    {
      "cell_type": "markdown",
      "metadata": {
        "id": "wNxoO6PX4Z8F"
      },
      "source": [
        "# Spare-it Proof of Concept (PoC)"
      ]
    },
    {
      "cell_type": "code",
      "execution_count": null,
      "metadata": {
        "id": "TEGeY9OH4W_V"
      },
      "outputs": [],
      "source": [
        "'''\n",
        "1. Download this file.\n",
        "2. Change the name of the file to Spare_it_PoC-[yourname].\n",
        "3. Work on your own branch.\n",
        "'''"
      ]
    }
  ],
  "metadata": {
    "colab": {
      "provenance": []
    },
    "kernelspec": {
      "display_name": "Python 3",
      "name": "python3"
    },
    "language_info": {
      "name": "python"
    }
  },
  "nbformat": 4,
  "nbformat_minor": 0
}

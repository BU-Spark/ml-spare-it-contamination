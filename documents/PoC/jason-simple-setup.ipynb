{
 "cells": [
  {
   "cell_type": "code",
   "execution_count": null,
   "id": "d021cc50-a74d-439e-82fb-3df97f97ae8d",
   "metadata": {},
   "outputs": [],
   "source": [
    "# You can use this notebook to have simple EDA over the data.\n",
    "# It should be mainly used to insert exactly same named json files and image files to your own folder to work on training, validating, and testing."
   ]
  },
  {
   "cell_type": "code",
   "execution_count": 5,
   "id": "ec1985c4-b2cf-4ff1-971b-304970129404",
   "metadata": {},
   "outputs": [
    {
     "name": "stdout",
     "output_type": "stream",
     "text": [
      "Number of .json files in the labels folder: 9642\n",
      "Number of image files in the images folder: 14302\n"
     ]
    }
   ],
   "source": [
    "labels_path = './labels'\n",
    "files = os.listdir(labels_path)\n",
    "label_files = [file for file in files if file.endswith('.json')]\n",
    "print(f\"Number of .json files in the labels folder: {len(label_files)}\")\n",
    "\n",
    "images_path = './images'\n",
    "files = os.listdir(images_path)\n",
    "image_extensions = ['.jpg', '.jpeg', '.png', '.gif']\n",
    "image_files = [file for file in files if any(file.endswith(ext) for ext in image_extensions)]\n",
    "print(f\"Number of image files in the images folder: {len(image_files)}\")"
   ]
  },
  {
   "cell_type": "code",
   "execution_count": 6,
   "id": "43f79928-40c6-4bac-a07c-69c6263b53e0",
   "metadata": {},
   "outputs": [
    {
     "name": "stdout",
     "output_type": "stream",
     "text": [
      "9642 label files moved to ./jasonoh/cocojson\n",
      "9642 image files moved to ./jasonoh/images\n"
     ]
    }
   ],
   "source": [
    "# We are looking for same named image files because its common practice to keep the labels the same name as the image files\n",
    "label_files_names = [os.path.splitext(label_file)[0] for label_file in label_files]\n",
    "image_files_labeled = [filename + ext for filename in label_files_names for ext in image_extensions if filename + ext in image_files]\n",
    "\n",
    "# As of 03/28/2024, we have 2024 json files and 2024 images matching it.\n",
    "# label_files and image_files_labeled are what we are looking to download to other file.\n",
    "import os\n",
    "import shutil\n",
    "\n",
    "# ***Write out the your directory to save labels and images***\n",
    "my_labels_path = './jasonoh/cocojson'\n",
    "my_images_path = './jasonoh/images'\n",
    "\n",
    "# Create the directories if it does not exist\n",
    "os.makedirs(my_labels_path, exist_ok=True)\n",
    "os.makedirs(my_images_path, exist_ok=True)\n",
    "\n",
    "# Move labels\n",
    "for label_file in label_files:\n",
    "    src = os.path.join(labels_path, label_file)\n",
    "    dst = os.path.join(my_labels_path, label_file)\n",
    "    shutil.move(src, dst)\n",
    "\n",
    "print(f\"{len(label_files)} label files moved to {my_labels_path}\")\n",
    "\n",
    "# Move images\n",
    "for image_file in image_files_labeled:\n",
    "    src = os.path.join(images_path, image_file)\n",
    "    dst = os.path.join(my_images_path, image_file)\n",
    "    shutil.move(src, dst)\n",
    "\n",
    "print(f\"{len(image_files_labeled)} image files moved to {my_images_path}\")"
   ]
  },
  {
   "cell_type": "code",
   "execution_count": 4,
   "id": "b11e045b-8d48-4b0e-8c9b-930dceb1cb0a",
   "metadata": {},
   "outputs": [
    {
     "name": "stdout",
     "output_type": "stream",
     "text": [
      "Files have been moved successfully.\n"
     ]
    }
   ],
   "source": [
    "import os\n",
    "import shutil\n",
    "\n",
    "def move_files(source_dir, target_images_dir, target_labels_dir):\n",
    "    # Define the extensions for images\n",
    "    image_extensions = ['.jpg', '.jpeg', '.png', '.gif']\n",
    "    \n",
    "    # Ensure target directories exist\n",
    "    os.makedirs(target_images_dir, exist_ok=True)\n",
    "    os.makedirs(target_labels_dir, exist_ok=True)\n",
    "\n",
    "    # Iterate through all files in the source directory\n",
    "    for file in os.listdir(source_dir):\n",
    "        # Determine the full path of the file\n",
    "        file_path = os.path.join(source_dir, file)\n",
    "        \n",
    "        # Check if the file is an image and move to the images directory\n",
    "        if any(file.endswith(ext) for ext in image_extensions):\n",
    "            shutil.move(file_path, os.path.join(target_images_dir, file))\n",
    "        # Check if the file is a JSON and move to the labels directory\n",
    "        elif file.endswith('.json'):\n",
    "            shutil.move(file_path, os.path.join(target_labels_dir, file))\n",
    "\n",
    "# Specify the directories\n",
    "source_directory = './nam'\n",
    "images_directory = './images'\n",
    "labels_directory = './labels'\n",
    "\n",
    "# Call the function to move files\n",
    "move_files(source_directory, images_directory, labels_directory)\n",
    "\n",
    "print(\"Files have been moved successfully.\")"
   ]
  }
 ],
 "metadata": {
  "kernelspec": {
   "display_name": "Python 3 (ipykernel)",
   "language": "python",
   "name": "python3"
  },
  "language_info": {
   "codemirror_mode": {
    "name": "ipython",
    "version": 3
   },
   "file_extension": ".py",
   "mimetype": "text/x-python",
   "name": "python",
   "nbconvert_exporter": "python",
   "pygments_lexer": "ipython3",
   "version": "3.11.6"
  }
 },
 "nbformat": 4,
 "nbformat_minor": 5
}

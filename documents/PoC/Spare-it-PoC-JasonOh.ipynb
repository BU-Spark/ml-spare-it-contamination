{
 "cells": [
  {
   "cell_type": "code",
   "execution_count": 6,
   "id": "28d5eec6-e0a2-4d8e-acf8-19147455bdb6",
   "metadata": {},
   "outputs": [],
   "source": [
    "# Before delving into the implementation of YOLOv8 for our Proof of Concept (PoC), \n",
    "# it's crucial to consider a few key aspects regarding the dataset provided by Spare-it. \n",
    "# There are notable characteristics we must address to ensure the success of our model.\n",
    "\n",
    "# Firstly, our dataset exhibits class imbalance, where certain recyclable \n",
    "# classes are underrepresented or absent entirely. For instance, labels \n",
    "# like \"paper towel\" may occur frequently, while others may be scarce. \n",
    "# To mitigate this imbalance, we plan to leverage pretrained models. \n",
    "# These models not only help address class imbalances but also enhance the \n",
    "# overall accuracy of our model as Spare-it's dataset expands and evolves.\n",
    "\n",
    "# Furthermore, within our dataset, we encounter a distinction between material \n",
    "# classes and specific names (e.g., \"paper towel\"). Notably, the material class \n",
    "# serves as a superclass encompassing various specific names. Therefore, achieving \n",
    "# optimal performance on these specific names is crucial for enhancing the overall model accuracy.\n",
    "\n",
    "# Our initial step involves transforming Spare-it's dataset, currently in cocojson \n",
    "# format, to align with the requirements of YOLOv8's dataset. Initially, we prioritize \n",
    "# handling bounding boxes (bbox) and defer addressing segmentation aspects until we achieve satisfactory accuracy levels."
   ]
  },
  {
   "cell_type": "code",
   "execution_count": 1,
   "id": "0828f802-7ee8-4167-82f9-eafdb1d760a9",
   "metadata": {},
   "outputs": [],
   "source": [
    "# You will need to have images folder with all the images and cocojson folder with all the labels to run codes below.\n",
    "import json\n",
    "import os\n",
    "\n",
    "# Your directories\n",
    "coco_dir = './cocojson'  # Directory containing COCO JSON files\n",
    "labels_dir = './labels'  # Final directory to save the YOLO format files\n",
    "\n",
    "# These are index mapping we have to do.\n",
    "# YOLOv8 needs your name starting from 0 incrementing by 1.\n",
    "# Spare-it has id values not in this format, so we have mapped them in this way.\n",
    "id_to_index = {1: 0, 2: 1, 4: 2, 5: 3, 6: 4, 7: 5, 8: 6, 9: 7, 10: 8, 11: 9, \n",
    "               14: 10, 15: 11, 16: 12, 17: 13, 18: 14, 19: 15, 115: 16, 114: 17, \n",
    "               116: 18, 117: 19, 122: 20, 123: 21, 124: 22, 127: 23, 20: 24, 21: 25, \n",
    "               22: 26, 23: 27, 24: 28, 25: 29, 26: 30, 27: 31, 30: 32, 125: 33, 126: 34, \n",
    "               36: 35, 38: 36, 40: 37, 43: 38, 44: 39, 45: 40, 46: 41, 47: 42, 48: 43, \n",
    "               49: 44, 50: 45, 51: 46, 52: 47, 53: 48, 54: 49, 55: 50, 56: 51, 57: 52, \n",
    "               58: 53, 59: 54, 60: 55, 120: 56, 121: 57, 63: 58, 65: 59, 66: 60, 67: 61, \n",
    "               68: 62, 69: 63, 70: 64, 72: 65, 73: 66, 76: 67, 77: 68, 78: 69, 79: 70, 80: 71, \n",
    "               82: 72, 83: 73, 84: 74, 85: 75, 86: 76, 87: 77, 88: 78, 118: 79, 119: 80, 89: 81, \n",
    "               91: 82, 92: 83, 93: 84, 94: 85, 95: 86, 96: 87, 97: 88, 98: 89, 99: 90, 100: 91, \n",
    "               101: 92, 102: 93, 103: 94, 106: 95, 107: 96, 109: 97, 110: 98, 112: 99}\n",
    "\n",
    "# Function to read Spare-it's custom COCO json into standardized YOLO format.\n",
    "# I am basing this off from Ultralytics' JSON2YOLO.\n",
    "# Reason building custom one is to have the id_to_index mapping within coco_to_yolo.\n",
    "def coco_to_yolo(coco_json_path, labels_dir, id_to_index):\n",
    "    with open(coco_json_path) as f:\n",
    "        data = json.load(f)\n",
    "\n",
    "    # We will need image_width, image_height, and overall annotation here\n",
    "    for image in data['images']:\n",
    "        image_width, image_height = image['width'], image['height']\n",
    "        yolo_annotations = [] # our converted yolo data format\n",
    "\n",
    "        for annotation in data['annotations']:\n",
    "            category_id = id_to_index.get(annotation['category_id'], -1) # convert category_id using the id_to_index mapping\n",
    "            x_min, y_min, bbox_width, bbox_height = annotation['bbox']\n",
    "            x_center = x_min + (bbox_width / 2)\n",
    "            y_center = y_min + (bbox_height / 2)\n",
    "\n",
    "            x_center_normalized = x_center / image_width\n",
    "            y_center_normalized = y_center / image_height\n",
    "            width_normalized = bbox_width / image_width\n",
    "            height_normalized = bbox_height / image_height\n",
    "\n",
    "            yolo_format = f\"{category_id} {x_center_normalized} {y_center_normalized} {width_normalized} {height_normalized}\"\n",
    "            yolo_annotations.append(yolo_format)\n",
    "\n",
    "        base_filename = os.path.splitext(os.path.basename(coco_json_path))[0]\n",
    "        output_filename = os.path.join(labels_dir, f\"{base_filename}.txt\")\n",
    "        \n",
    "        # Write output into YOLO format\n",
    "        with open(output_filename, 'w') as f:\n",
    "            for item in yolo_annotations:\n",
    "                f.write(\"%s\\n\" % item)\n",
    "\n",
    "# Creates labels directory and iterate over all cocojson files to that folder\n",
    "def convert_directory(coco_dir, labels_dir, id_to_index):\n",
    "    if not os.path.exists(labels_dir):\n",
    "        os.makedirs(labels_dir)\n",
    "\n",
    "    for filename in os.listdir(coco_dir):\n",
    "        if filename.endswith(\".json\"):\n",
    "            coco_json_path = os.path.join(coco_dir, filename)\n",
    "            coco_to_yolo(coco_json_path, labels_dir, id_to_index)\n",
    "\n",
    "\n",
    "convert_directory(coco_dir, labels_dir, id_to_index)"
   ]
  },
  {
   "cell_type": "code",
   "execution_count": 2,
   "id": "90930125-6f69-4beb-bf73-2b491af93700",
   "metadata": {},
   "outputs": [],
   "source": [
    "# Now we have all the data formatted to conduct training the model.\n",
    "#\n",
    "# We will need to use the dataset.yml, I have generated.\n",
    "# Looks through the YOLO format id to get the label name and figure out where the train and val images are at.\n",
    "# We will need to create a main folder called datasets. Inside this there will be train and val folders. Inside each\n",
    "# of these three folder, we will have images and labels folder. By doing this you will be able to customize YOLOv8 model with own dataset.\n",
    "import os\n",
    "import shutil\n",
    "import random\n",
    "\n",
    "# Generate YOLO custom dataset format\n",
    "subfolders = ['train', 'val']\n",
    "for subfolder in subfolders:\n",
    "    os.makedirs(os.path.join('./datasets', subfolder, 'images'), exist_ok=True)\n",
    "    os.makedirs(os.path.join('./datasets', subfolder, 'labels'), exist_ok=True)\n",
    "\n",
    "# Base dataset to create these splits\n",
    "labels_path = './labels'\n",
    "images_path = './images'\n",
    "image_extensions = ['.jpg', '.jpeg', '.png', '.gif']\n",
    "\n",
    "label_files = [file for file in os.listdir(labels_path) if file.endswith('.txt')]\n",
    "random.shuffle(label_files)  # Randomize the list\n",
    "\n",
    "# Calculate split sizes\n",
    "# Change the percentange for your need\n",
    "num_total = len(label_files)\n",
    "num_train = int(num_total * 0.85)\n",
    "num_val = num_total - num_train\n",
    "\n",
    "# Split the files\n",
    "train_files = label_files[:num_train]\n",
    "val_files = label_files[num_train:]\n",
    "\n",
    "def copy_files(files, source_path_images, source_path_labels, target_path_images, target_path_labels):\n",
    "    for file in files:\n",
    "        base_filename = os.path.splitext(file)[0]\n",
    "        # Attempt to find and copy the first matching image file with any of the specified extensions\n",
    "        copied = False\n",
    "        for ext in image_extensions:\n",
    "            image_file = base_filename + ext\n",
    "            if os.path.exists(os.path.join(source_path_images, image_file)):\n",
    "                shutil.copy(os.path.join(source_path_images, image_file),\n",
    "                            os.path.join(target_path_images, image_file))\n",
    "                copied = True\n",
    "                break  # stops after first match\n",
    "        if not copied:\n",
    "            print(f\"No matching image found for {file}\")\n",
    "        else:\n",
    "            shutil.copy(os.path.join(source_path_labels, file), os.path.join(target_path_labels, file)) # Only add labels file if image exist.\n",
    "            \n",
    "# Copy files to respective directories\n",
    "copy_files(train_files, images_path, labels_path, os.path.join('./datasets', 'train', 'images'), os.path.join('./datasets', 'train', 'labels'))\n",
    "copy_files(val_files, images_path, labels_path, os.path.join('./datasets', 'val', 'images'), os.path.join('./datasets', 'val', 'labels'))"
   ]
  },
  {
   "cell_type": "code",
   "execution_count": 3,
   "id": "eff1047d-9489-419c-af64-bd34c7d1eb23",
   "metadata": {},
   "outputs": [],
   "source": [
    "# Now you have to train using the Ultralytics\n",
    "!pip install -q ultralytics"
   ]
  },
  {
   "cell_type": "code",
   "execution_count": 1,
   "id": "dca81275-80cd-4753-baff-742329ffcfb5",
   "metadata": {},
   "outputs": [
    {
     "name": "stdout",
     "output_type": "stream",
     "text": [
      "New https://pypi.org/project/ultralytics/8.1.47 available 😃 Update with 'pip install -U ultralytics'\n",
      "Ultralytics YOLOv8.1.37 🚀 Python-3.11.6 torch-2.1.2 CUDA:0 (NVIDIA L40S, 45589MiB)\n",
      "\u001b[34m\u001b[1mengine/trainer: \u001b[0mtask=detect, mode=train, model=yolov8n.pt, data=dataset.yaml, epochs=150, time=None, patience=9, batch=25, imgsz=640, save=True, save_period=-1, cache=False, device=None, workers=8, project=None, name=train2, exist_ok=False, pretrained=True, optimizer=auto, verbose=True, seed=0, deterministic=True, single_cls=False, rect=False, cos_lr=False, close_mosaic=10, resume=False, amp=True, fraction=1.0, profile=False, freeze=None, multi_scale=False, overlap_mask=True, mask_ratio=4, dropout=0.0, val=True, split=val, save_json=False, save_hybrid=False, conf=None, iou=0.7, max_det=300, half=False, dnn=False, plots=True, source=None, vid_stride=1, stream_buffer=False, visualize=False, augment=False, agnostic_nms=False, classes=None, retina_masks=False, embed=None, show=False, save_frames=False, save_txt=False, save_conf=False, save_crop=False, show_labels=True, show_conf=True, show_boxes=True, line_width=None, format=torchscript, keras=False, optimize=False, int8=False, dynamic=False, simplify=False, opset=None, workspace=4, nms=False, lr0=0.01, lrf=0.01, momentum=0.937, weight_decay=0.0005, warmup_epochs=3.0, warmup_momentum=0.8, warmup_bias_lr=0.1, box=7.5, cls=0.5, dfl=1.5, pose=12.0, kobj=1.0, label_smoothing=0.5, nbs=64, hsv_h=0.015, hsv_s=0.7, hsv_v=0.4, degrees=0.0, translate=0.1, scale=0.5, shear=0.0, perspective=0.0, flipud=0.0, fliplr=0.5, bgr=0.0, mosaic=1.0, mixup=0.0, copy_paste=0.0, auto_augment=randaugment, erasing=0.4, crop_fraction=1.0, cfg=None, tracker=botsort.yaml, save_dir=runs/detect/train2\n",
      "Overriding model.yaml nc=80 with nc=100\n",
      "\n",
      "                   from  n    params  module                                       arguments                     \n",
      "  0                  -1  1       464  ultralytics.nn.modules.conv.Conv             [3, 16, 3, 2]                 \n",
      "  1                  -1  1      4672  ultralytics.nn.modules.conv.Conv             [16, 32, 3, 2]                \n",
      "  2                  -1  1      7360  ultralytics.nn.modules.block.C2f             [32, 32, 1, True]             \n",
      "  3                  -1  1     18560  ultralytics.nn.modules.conv.Conv             [32, 64, 3, 2]                \n",
      "  4                  -1  2     49664  ultralytics.nn.modules.block.C2f             [64, 64, 2, True]             \n",
      "  5                  -1  1     73984  ultralytics.nn.modules.conv.Conv             [64, 128, 3, 2]               \n",
      "  6                  -1  2    197632  ultralytics.nn.modules.block.C2f             [128, 128, 2, True]           \n",
      "  7                  -1  1    295424  ultralytics.nn.modules.conv.Conv             [128, 256, 3, 2]              \n",
      "  8                  -1  1    460288  ultralytics.nn.modules.block.C2f             [256, 256, 1, True]           \n",
      "  9                  -1  1    164608  ultralytics.nn.modules.block.SPPF            [256, 256, 5]                 \n",
      " 10                  -1  1         0  torch.nn.modules.upsampling.Upsample         [None, 2, 'nearest']          \n",
      " 11             [-1, 6]  1         0  ultralytics.nn.modules.conv.Concat           [1]                           \n",
      " 12                  -1  1    148224  ultralytics.nn.modules.block.C2f             [384, 128, 1]                 \n",
      " 13                  -1  1         0  torch.nn.modules.upsampling.Upsample         [None, 2, 'nearest']          \n",
      " 14             [-1, 4]  1         0  ultralytics.nn.modules.conv.Concat           [1]                           \n",
      " 15                  -1  1     37248  ultralytics.nn.modules.block.C2f             [192, 64, 1]                  \n",
      " 16                  -1  1     36992  ultralytics.nn.modules.conv.Conv             [64, 64, 3, 2]                \n",
      " 17            [-1, 12]  1         0  ultralytics.nn.modules.conv.Concat           [1]                           \n",
      " 18                  -1  1    123648  ultralytics.nn.modules.block.C2f             [192, 128, 1]                 \n",
      " 19                  -1  1    147712  ultralytics.nn.modules.conv.Conv             [128, 128, 3, 2]              \n",
      " 20             [-1, 9]  1         0  ultralytics.nn.modules.conv.Concat           [1]                           \n",
      " 21                  -1  1    493056  ultralytics.nn.modules.block.C2f             [384, 256, 1]                 \n",
      " 22        [15, 18, 21]  1   1086604  ultralytics.nn.modules.head.Detect           [100, [64, 128, 256]]         \n",
      "Model summary: 225 layers, 3346140 parameters, 3346124 gradients, 9.7 GFLOPs\n",
      "\n",
      "Transferred 319/355 items from pretrained weights\n",
      "\u001b[34m\u001b[1mTensorBoard: \u001b[0mStart with 'tensorboard --logdir runs/detect/train2', view at http://localhost:6006/\n",
      "Freezing layer 'model.22.dfl.conv.weight'\n",
      "\u001b[34m\u001b[1mAMP: \u001b[0mrunning Automatic Mixed Precision (AMP) checks with YOLOv8n...\n",
      "\u001b[34m\u001b[1mAMP: \u001b[0mchecks passed ✅\n"
     ]
    },
    {
     "name": "stderr",
     "output_type": "stream",
     "text": [
      "\u001b[34m\u001b[1mtrain: \u001b[0mScanning /projectnb/spareit/jasonoh/datasets/train/labels.cache... 10167 images, 0 backgrounds, 28 corrupt: 100%|██████████| 10167/10167 [00:00<?, ?it/s]"
     ]
    },
    {
     "name": "stdout",
     "output_type": "stream",
     "text": [
      "\u001b[34m\u001b[1mtrain: \u001b[0mWARNING ⚠️ /projectnb/spareit/jasonoh/datasets/train/images/Compost_8279f852-089c-4988-a39d-44ddb84064c8_bb7368da-408e-43ed-91e1-95a18ff7779a_7b871bc5-ef4e-4bce-8546-a7ede2022a88.jpeg: ignoring corrupt image/label: non-normalized or out of bounds coordinates [     1.0197      1.0814      1.0887      1.0726      1.3799      1.0626      1.0396      1.1798      1.2158       1.167      1.1614      1.3231]\n",
      "\u001b[34m\u001b[1mtrain: \u001b[0mWARNING ⚠️ /projectnb/spareit/jasonoh/datasets/train/images/Compost_a0689156-ee7e-469f-a909-42a86bd419ad_8d793a86-560c-44da-8791-733d950fea13_9688b444-7d9a-46e5-8d52-4c062d08273e.jpeg: ignoring corrupt image/label: non-normalized or out of bounds coordinates [     1.2384      1.4041         1.1       1.006      1.3245]\n",
      "\u001b[34m\u001b[1mtrain: \u001b[0mWARNING ⚠️ /projectnb/spareit/jasonoh/datasets/train/images/Compost_af683901-0125-4b56-bb18-973465da270c_fc709174-4d39-4384-a5be-699a0613e580_efa00666-16c1-4df6-9714-65bbfc9d1dfe.jpeg: ignoring corrupt image/label: non-normalized or out of bounds coordinates [     1.1612      1.2025      1.1729]\n",
      "\u001b[34m\u001b[1mtrain: \u001b[0mWARNING ⚠️ /projectnb/spareit/jasonoh/datasets/train/images/Metals_a0689156-ee7e-469f-a909-42a86bd419ad_8d793a86-560c-44da-8791-733d950fea13_498edf9f-5e00-42e1-a1d4-a7239507b7a8.jpeg: ignoring corrupt image/label: non-normalized or out of bounds coordinates [     1.0486       1.091      1.2678      1.2723      1.4637      1.2434]\n",
      "\u001b[34m\u001b[1mtrain: \u001b[0mWARNING ⚠️ /projectnb/spareit/jasonoh/datasets/train/images/Metals_af683901-0125-4b56-bb18-973465da270c_fc709174-4d39-4384-a5be-699a0613e580_c78d8105-a8f5-4a6e-a727-8260c3fe9693.jpeg: ignoring corrupt image/label: non-normalized or out of bounds coordinates [     1.4831      1.4001      1.4726      1.4364      1.4098      1.5857      1.7981      1.7257      1.6462       1.672]\n",
      "\u001b[34m\u001b[1mtrain: \u001b[0mWARNING ⚠️ /projectnb/spareit/jasonoh/datasets/train/images/Metals_b41ee6d8-012d-4620-85f8-b0c49d69b27b_8d793a86-560c-44da-8791-733d950fea13_117c5e1a-7db4-4f15-bf67-1ceb17bcd0e5.jpeg: ignoring corrupt image/label: non-normalized or out of bounds coordinates [      1.164      1.1145]\n",
      "\u001b[34m\u001b[1mtrain: \u001b[0mWARNING ⚠️ /projectnb/spareit/jasonoh/datasets/train/images/PaperCardboard_19e1f6f9-1cb1-4a56-b5b2-068e2d1089f9_bb7368da-408e-43ed-91e1-95a18ff7779a_596ebc9e-3482-4b73-8edc-a8c0d7483832.jpeg: ignoring corrupt image/label: non-normalized or out of bounds coordinates [     1.1599      1.0187]\n",
      "\u001b[34m\u001b[1mtrain: \u001b[0mWARNING ⚠️ /projectnb/spareit/jasonoh/datasets/train/images/PaperCardboard_19e1f6f9-1cb1-4a56-b5b2-068e2d1089f9_bb7368da-408e-43ed-91e1-95a18ff7779a_5ac6b332-fb8d-4bca-8ee0-365f1738f891.jpeg: ignoring corrupt image/label: non-normalized or out of bounds coordinates [     1.2605      1.0827      1.2477]\n",
      "\u001b[34m\u001b[1mtrain: \u001b[0mWARNING ⚠️ /projectnb/spareit/jasonoh/datasets/train/images/PaperCardboard_8279f852-089c-4988-a39d-44ddb84064c8_bb7368da-408e-43ed-91e1-95a18ff7779a_eaf23823-5d88-4096-ab67-2c452f98c392.jpeg: ignoring corrupt image/label: non-normalized or out of bounds coordinates [     1.1592      1.2262      1.3147      1.0403      1.1477      1.3915      1.4691      1.5312      1.2498      1.0549      1.2486      1.3006]\n",
      "\u001b[34m\u001b[1mtrain: \u001b[0mWARNING ⚠️ /projectnb/spareit/jasonoh/datasets/train/images/PaperCardboard_a0689156-ee7e-469f-a909-42a86bd419ad_8d793a86-560c-44da-8791-733d950fea13_266e4253-ae36-42bc-977e-a7c9479ec256.jpeg: ignoring corrupt image/label: non-normalized or out of bounds coordinates [     1.1451      1.0589       1.023      1.1124       1.215       1.587      1.5722      1.6794      1.3079]\n",
      "\u001b[34m\u001b[1mtrain: \u001b[0mWARNING ⚠️ /projectnb/spareit/jasonoh/datasets/train/images/PaperCardboard_af683901-0125-4b56-bb18-973465da270c_fc709174-4d39-4384-a5be-699a0613e580_1a05a556-0501-4060-8f0f-997adf7f8141.jpeg: ignoring corrupt image/label: non-normalized or out of bounds coordinates [     1.5609      1.3662      1.3748      1.5113      1.5173       1.363      1.2301      1.4174      1.2644      1.3625]\n",
      "\u001b[34m\u001b[1mtrain: \u001b[0mWARNING ⚠️ /projectnb/spareit/jasonoh/datasets/train/images/PaperCardboard_b41ee6d8-012d-4620-85f8-b0c49d69b27b_8d793a86-560c-44da-8791-733d950fea13_1e41384a-4c87-4c7f-9fdf-651292c661d9.jpeg: ignoring corrupt image/label: non-normalized or out of bounds coordinates [      1.478       1.286       1.185      1.2779]\n",
      "\u001b[34m\u001b[1mtrain: \u001b[0mWARNING ⚠️ /projectnb/spareit/jasonoh/datasets/train/images/PaperCardboard_b41ee6d8-012d-4620-85f8-b0c49d69b27b_8d793a86-560c-44da-8791-733d950fea13_7c124854-bdb8-428d-aac9-086ca4208082.jpeg: ignoring corrupt image/label: non-normalized or out of bounds coordinates [     1.1207      1.1407      1.3242]\n",
      "\u001b[34m\u001b[1mtrain: \u001b[0mWARNING ⚠️ /projectnb/spareit/jasonoh/datasets/train/images/PaperCardboard_d7cb6b41-797d-4e31-94ad-d05e8cc95582_bb7368da-408e-43ed-91e1-95a18ff7779a_f242288d-49b3-4539-b58e-5399d56d7f96.jpeg: ignoring corrupt image/label: non-normalized or out of bounds coordinates [     1.0539       1.089      1.2018      1.2586      1.1821      1.1473      1.3845      1.3494      1.1361      1.2142]\n",
      "\u001b[34m\u001b[1mtrain: \u001b[0mWARNING ⚠️ /projectnb/spareit/jasonoh/datasets/train/images/PaperCardboard_fdf7768f-fb83-478b-8e1b-15931b3cfb38_bb7368da-408e-43ed-91e1-95a18ff7779a_f14934c6-a9c4-45cd-b6c6-ce65fdfef077.jpeg: ignoring corrupt image/label: non-normalized or out of bounds coordinates [     1.5843       1.271      1.8473      1.0932      1.3397      1.5464      1.2895      1.1656      1.4046      1.5052      1.4972      1.5287      1.5372]\n",
      "\u001b[34m\u001b[1mtrain: \u001b[0mWARNING ⚠️ /projectnb/spareit/jasonoh/datasets/train/images/Plastics_8279f852-089c-4988-a39d-44ddb84064c8_bb7368da-408e-43ed-91e1-95a18ff7779a_78d0f5b5-0b96-420a-9da6-89379b8daa6f.jpeg: ignoring corrupt image/label: non-normalized or out of bounds coordinates [      1.118      1.2848      1.0617       1.409]\n",
      "\u001b[34m\u001b[1mtrain: \u001b[0mWARNING ⚠️ /projectnb/spareit/jasonoh/datasets/train/images/Plastics_a0689156-ee7e-469f-a909-42a86bd419ad_8d793a86-560c-44da-8791-733d950fea13_c12f99fc-a334-405a-b6b1-0ea37d3d7609.jpeg: ignoring corrupt image/label: non-normalized or out of bounds coordinates [     1.2731      1.4186      1.6743      1.2049      1.3799      1.3237       1.481]\n",
      "\u001b[34m\u001b[1mtrain: \u001b[0mWARNING ⚠️ /projectnb/spareit/jasonoh/datasets/train/images/Plastics_b41ee6d8-012d-4620-85f8-b0c49d69b27b_8d793a86-560c-44da-8791-733d950fea13_57d62316-16e1-4bbe-8aad-1f9ddf91d439.jpeg: ignoring corrupt image/label: non-normalized or out of bounds coordinates [     1.3881      1.0482      1.0944]\n",
      "\u001b[34m\u001b[1mtrain: \u001b[0mWARNING ⚠️ /projectnb/spareit/jasonoh/datasets/train/images/Trash_19e1f6f9-1cb1-4a56-b5b2-068e2d1089f9_bb7368da-408e-43ed-91e1-95a18ff7779a_2cfd6d27-228c-4bfc-935e-a94e2f40fd50.jpeg: ignoring corrupt image/label: non-normalized or out of bounds coordinates [     1.2299      1.2115      1.2918      1.0002]\n",
      "\u001b[34m\u001b[1mtrain: \u001b[0mWARNING ⚠️ /projectnb/spareit/jasonoh/datasets/train/images/Trash_19e1f6f9-1cb1-4a56-b5b2-068e2d1089f9_bb7368da-408e-43ed-91e1-95a18ff7779a_40b4ff38-417c-49b8-9695-e120c4be4a1b.jpeg: ignoring corrupt image/label: non-normalized or out of bounds coordinates [     1.0221      1.0034      1.1897      1.4082      1.5613      1.5101      1.4504      1.4335      1.2511      1.1015      1.3642      1.0271      1.1254      1.3676      1.2624      1.3847      1.5405       1.419      1.1542]\n",
      "\u001b[34m\u001b[1mtrain: \u001b[0mWARNING ⚠️ /projectnb/spareit/jasonoh/datasets/train/images/Trash_8279f852-089c-4988-a39d-44ddb84064c8_bb7368da-408e-43ed-91e1-95a18ff7779a_2fc186d0-30b7-4d69-89b3-e1bf27c369d9.jpeg: ignoring corrupt image/label: non-normalized or out of bounds coordinates [     1.2432      1.3977      1.2448]\n",
      "\u001b[34m\u001b[1mtrain: \u001b[0mWARNING ⚠️ /projectnb/spareit/jasonoh/datasets/train/images/Trash_8279f852-089c-4988-a39d-44ddb84064c8_bb7368da-408e-43ed-91e1-95a18ff7779a_786f3a53-93a3-4b90-812d-f53b1ffb7888.jpeg: ignoring corrupt image/label: non-normalized or out of bounds coordinates [     1.2178      1.2273      1.1923      1.0308      1.4707      1.1592]\n",
      "\u001b[34m\u001b[1mtrain: \u001b[0mWARNING ⚠️ /projectnb/spareit/jasonoh/datasets/train/images/Trash_a0689156-ee7e-469f-a909-42a86bd419ad_8d793a86-560c-44da-8791-733d950fea13_716b2fef-8cb4-463b-aaff-ffd1b657673d.jpeg: ignoring corrupt image/label: non-normalized or out of bounds coordinates [     1.2746      1.0259      1.1762      1.2795       1.079      1.1657      1.3891      1.5158       1.265       1.162      1.1977]\n",
      "\u001b[34m\u001b[1mtrain: \u001b[0mWARNING ⚠️ /projectnb/spareit/jasonoh/datasets/train/images/Trash_a0689156-ee7e-469f-a909-42a86bd419ad_8d793a86-560c-44da-8791-733d950fea13_bcb236cd-fd00-4f71-abca-9b7f1f7bde9a.jpeg: ignoring corrupt image/label: non-normalized or out of bounds coordinates [     1.4251      1.2062      1.1694      1.2882      1.1895      1.3491      1.0492      1.1618      1.0169      1.0864      1.4378      1.2941      1.3889      1.0493      1.0785      1.0655      1.4045]\n",
      "\u001b[34m\u001b[1mtrain: \u001b[0mWARNING ⚠️ /projectnb/spareit/jasonoh/datasets/train/images/Trash_af683901-0125-4b56-bb18-973465da270c_fc709174-4d39-4384-a5be-699a0613e580_77101530-5383-4921-9a47-b39250ea255a.jpeg: ignoring corrupt image/label: non-normalized or out of bounds coordinates [      1.486      1.4477      1.4604      1.4897      1.0704      1.0022      1.5077      1.0059      1.3119      1.2998      1.3472      1.5258      1.4234      1.3717      1.3651      1.3551      1.3728      1.3508      1.5059      1.4773]\n",
      "\u001b[34m\u001b[1mtrain: \u001b[0mWARNING ⚠️ /projectnb/spareit/jasonoh/datasets/train/images/Trash_b41ee6d8-012d-4620-85f8-b0c49d69b27b_8d793a86-560c-44da-8791-733d950fea13_0f704077-0b40-4384-b4a2-16707b392b99.jpeg: ignoring corrupt image/label: non-normalized or out of bounds coordinates [     1.5195      1.0555       1.283      1.4774      1.2898      1.4924]\n",
      "\u001b[34m\u001b[1mtrain: \u001b[0mWARNING ⚠️ /projectnb/spareit/jasonoh/datasets/train/images/Trash_f68574a5-e8b5-4514-bc53-1537fbb9f8ff_8d793a86-560c-44da-8791-733d950fea13_af97ce03-4a8a-4dd2-9d37-90ff213af386.jpeg: ignoring corrupt image/label: non-normalized or out of bounds coordinates [     1.0873      1.1746      1.3987]\n",
      "\u001b[34m\u001b[1mtrain: \u001b[0mWARNING ⚠️ /projectnb/spareit/jasonoh/datasets/train/images/Trash_fdf7768f-fb83-478b-8e1b-15931b3cfb38_bb7368da-408e-43ed-91e1-95a18ff7779a_d3f83797-fbd4-4f51-a6d6-ebed77019678.jpeg: ignoring corrupt image/label: non-normalized or out of bounds coordinates [     1.4266      1.1754      1.6288      1.4346      1.5627      1.6388       1.551      1.2856      1.0919       1.124      1.4959      1.3728]\n"
     ]
    },
    {
     "name": "stderr",
     "output_type": "stream",
     "text": [
      "\n",
      "\u001b[34m\u001b[1mval: \u001b[0mScanning /projectnb/spareit/jasonoh/datasets/val/labels.cache... 2010 images, 0 backgrounds, 2 corrupt: 100%|██████████| 2010/2010 [00:00<?, ?it/s]"
     ]
    },
    {
     "name": "stdout",
     "output_type": "stream",
     "text": [
      "\u001b[34m\u001b[1mval: \u001b[0mWARNING ⚠️ /projectnb/spareit/jasonoh/datasets/val/images/Glass_8279f852-089c-4988-a39d-44ddb84064c8_bb7368da-408e-43ed-91e1-95a18ff7779a_f7676c9e-0a0d-42f6-b0fb-f12372fcd17b.jpeg: ignoring corrupt image/label: non-normalized or out of bounds coordinates [     1.4366      1.1489]\n",
      "\u001b[34m\u001b[1mval: \u001b[0mWARNING ⚠️ /projectnb/spareit/jasonoh/datasets/val/images/Trash_06e4cb92-5753-4a8a-bdc4-43ffad700922_07bd1196-c632-4bf4-a01f-35660b57d624_465ad689-8383-4ae0-b01f-015197a68b4b.jpeg: 1 duplicate labels removed\n",
      "\u001b[34m\u001b[1mval: \u001b[0mWARNING ⚠️ /projectnb/spareit/jasonoh/datasets/val/images/Trash_9a8023cc-2608-41e3-82ed-24e7507e91d5_b7e1275d-5d0e-48b8-af8f-254c49833370_c0f2c1b2-aea6-4cab-ba9a-52b06a92963f.jpeg: 1 duplicate labels removed\n",
      "\u001b[34m\u001b[1mval: \u001b[0mWARNING ⚠️ /projectnb/spareit/jasonoh/datasets/val/images/Trash_a0689156-ee7e-469f-a909-42a86bd419ad_8d793a86-560c-44da-8791-733d950fea13_5793db35-fb1a-4772-ab2d-58b8b1f062a5.jpeg: ignoring corrupt image/label: non-normalized or out of bounds coordinates [      1.553      1.1482      1.1261      1.3565      1.5943      1.0032      1.1023      1.1405      1.1765      1.2482      1.1513      1.4865      1.0016       1.371      1.3142]\n"
     ]
    },
    {
     "name": "stderr",
     "output_type": "stream",
     "text": [
      "\n"
     ]
    },
    {
     "name": "stdout",
     "output_type": "stream",
     "text": [
      "Plotting labels to runs/detect/train2/labels.jpg... \n",
      "\u001b[34m\u001b[1moptimizer:\u001b[0m 'optimizer=auto' found, ignoring 'lr0=0.01' and 'momentum=0.937' and determining best 'optimizer', 'lr0' and 'momentum' automatically... \n",
      "\u001b[34m\u001b[1moptimizer:\u001b[0m SGD(lr=0.01, momentum=0.9) with parameter groups 57 weight(decay=0.0), 64 weight(decay=0.0005859375000000001), 63 bias(decay=0.0)\n",
      "\u001b[34m\u001b[1mTensorBoard: \u001b[0mmodel graph visualization added ✅\n",
      "Image sizes 640 train, 640 val\n",
      "Using 8 dataloader workers\n",
      "Logging results to \u001b[1mruns/detect/train2\u001b[0m\n",
      "Starting training for 150 epochs...\n",
      "\n",
      "      Epoch    GPU_mem   box_loss   cls_loss   dfl_loss  Instances       Size\n"
     ]
    },
    {
     "name": "stderr",
     "output_type": "stream",
     "text": [
      "      1/150      5.07G      1.534      4.084      1.479        202        640: 100%|██████████| 406/406 [01:01<00:00,  6.57it/s]\n",
      "                 Class     Images  Instances      Box(P          R      mAP50  mAP50-95): 100%|██████████| 41/41 [00:05<00:00,  8.05it/s]\n"
     ]
    },
    {
     "name": "stdout",
     "output_type": "stream",
     "text": [
      "                   all       2008      19885       0.67      0.041     0.0237     0.0141\n",
      "\n",
      "      Epoch    GPU_mem   box_loss   cls_loss   dfl_loss  Instances       Size\n"
     ]
    },
    {
     "name": "stderr",
     "output_type": "stream",
     "text": [
      "      2/150      6.77G      1.512      2.881      1.478        275        640: 100%|██████████| 406/406 [00:36<00:00, 11.18it/s]\n",
      "                 Class     Images  Instances      Box(P          R      mAP50  mAP50-95): 100%|██████████| 41/41 [00:05<00:00,  6.88it/s]\n"
     ]
    },
    {
     "name": "stdout",
     "output_type": "stream",
     "text": [
      "                   all       2008      19885       0.53     0.0594     0.0254     0.0146\n",
      "\n",
      "      Epoch    GPU_mem   box_loss   cls_loss   dfl_loss  Instances       Size\n"
     ]
    },
    {
     "name": "stderr",
     "output_type": "stream",
     "text": [
      "      3/150      6.11G      1.546      2.755      1.479        202        640: 100%|██████████| 406/406 [00:36<00:00, 11.12it/s]\n",
      "                 Class     Images  Instances      Box(P          R      mAP50  mAP50-95): 100%|██████████| 41/41 [00:04<00:00,  8.31it/s]\n"
     ]
    },
    {
     "name": "stdout",
     "output_type": "stream",
     "text": [
      "                   all       2008      19885       0.43     0.0661      0.044     0.0255\n",
      "\n",
      "      Epoch    GPU_mem   box_loss   cls_loss   dfl_loss  Instances       Size\n"
     ]
    },
    {
     "name": "stderr",
     "output_type": "stream",
     "text": [
      "      4/150      5.15G       1.55      2.658      1.472        297        640: 100%|██████████| 406/406 [00:35<00:00, 11.58it/s]\n",
      "                 Class     Images  Instances      Box(P          R      mAP50  mAP50-95): 100%|██████████| 41/41 [00:05<00:00,  6.87it/s]\n"
     ]
    },
    {
     "name": "stdout",
     "output_type": "stream",
     "text": [
      "                   all       2008      19885      0.414     0.0845     0.0573     0.0343\n",
      "\n",
      "      Epoch    GPU_mem   box_loss   cls_loss   dfl_loss  Instances       Size\n"
     ]
    },
    {
     "name": "stderr",
     "output_type": "stream",
     "text": [
      "      5/150      5.78G      1.518       2.56      1.451        294        640: 100%|██████████| 406/406 [00:34<00:00, 11.70it/s]\n",
      "                 Class     Images  Instances      Box(P          R      mAP50  mAP50-95): 100%|██████████| 41/41 [00:04<00:00,  9.08it/s]\n"
     ]
    },
    {
     "name": "stdout",
     "output_type": "stream",
     "text": [
      "                   all       2008      19885      0.401     0.0847     0.0663     0.0416\n",
      "\n",
      "      Epoch    GPU_mem   box_loss   cls_loss   dfl_loss  Instances       Size\n"
     ]
    },
    {
     "name": "stderr",
     "output_type": "stream",
     "text": [
      "      6/150      5.14G       1.49      2.482      1.431        230        640: 100%|██████████| 406/406 [00:34<00:00, 11.60it/s]\n",
      "                 Class     Images  Instances      Box(P          R      mAP50  mAP50-95): 100%|██████████| 41/41 [00:04<00:00,  8.40it/s]\n"
     ]
    },
    {
     "name": "stdout",
     "output_type": "stream",
     "text": [
      "                   all       2008      19885       0.43     0.0928     0.0698     0.0429\n",
      "\n",
      "      Epoch    GPU_mem   box_loss   cls_loss   dfl_loss  Instances       Size\n"
     ]
    },
    {
     "name": "stderr",
     "output_type": "stream",
     "text": [
      "      7/150      6.14G      1.474      2.421      1.418        213        640: 100%|██████████| 406/406 [00:34<00:00, 11.73it/s]\n",
      "                 Class     Images  Instances      Box(P          R      mAP50  mAP50-95): 100%|██████████| 41/41 [00:04<00:00,  8.45it/s]\n"
     ]
    },
    {
     "name": "stdout",
     "output_type": "stream",
     "text": [
      "                   all       2008      19885       0.35      0.108     0.0703     0.0437\n",
      "\n",
      "      Epoch    GPU_mem   box_loss   cls_loss   dfl_loss  Instances       Size\n"
     ]
    },
    {
     "name": "stderr",
     "output_type": "stream",
     "text": [
      "      8/150      5.51G      1.459      2.366      1.406        406        640: 100%|██████████| 406/406 [00:34<00:00, 11.74it/s]\n",
      "                 Class     Images  Instances      Box(P          R      mAP50  mAP50-95): 100%|██████████| 41/41 [00:04<00:00,  8.56it/s]\n"
     ]
    },
    {
     "name": "stdout",
     "output_type": "stream",
     "text": [
      "                   all       2008      19885      0.467      0.123     0.0892     0.0552\n",
      "\n",
      "      Epoch    GPU_mem   box_loss   cls_loss   dfl_loss  Instances       Size\n"
     ]
    },
    {
     "name": "stderr",
     "output_type": "stream",
     "text": [
      "      9/150      5.63G      1.447      2.317      1.396        381        640: 100%|██████████| 406/406 [00:35<00:00, 11.45it/s]\n",
      "                 Class     Images  Instances      Box(P          R      mAP50  mAP50-95): 100%|██████████| 41/41 [00:04<00:00,  8.74it/s]\n"
     ]
    },
    {
     "name": "stdout",
     "output_type": "stream",
     "text": [
      "                   all       2008      19885      0.389      0.125     0.0958     0.0594\n",
      "\n",
      "      Epoch    GPU_mem   box_loss   cls_loss   dfl_loss  Instances       Size\n"
     ]
    },
    {
     "name": "stderr",
     "output_type": "stream",
     "text": [
      "     10/150      5.24G      1.431       2.28       1.39        263        640: 100%|██████████| 406/406 [00:36<00:00, 11.22it/s]\n",
      "                 Class     Images  Instances      Box(P          R      mAP50  mAP50-95): 100%|██████████| 41/41 [00:04<00:00,  9.26it/s]\n"
     ]
    },
    {
     "name": "stdout",
     "output_type": "stream",
     "text": [
      "                   all       2008      19885      0.402       0.12     0.0982     0.0629\n",
      "\n",
      "      Epoch    GPU_mem   box_loss   cls_loss   dfl_loss  Instances       Size\n"
     ]
    },
    {
     "name": "stderr",
     "output_type": "stream",
     "text": [
      "     11/150      5.16G      1.418      2.235      1.381        210        640: 100%|██████████| 406/406 [00:35<00:00, 11.56it/s]\n",
      "                 Class     Images  Instances      Box(P          R      mAP50  mAP50-95): 100%|██████████| 41/41 [00:04<00:00,  8.95it/s]\n"
     ]
    },
    {
     "name": "stdout",
     "output_type": "stream",
     "text": [
      "                   all       2008      19885      0.396      0.133      0.105     0.0661\n",
      "\n",
      "      Epoch    GPU_mem   box_loss   cls_loss   dfl_loss  Instances       Size\n"
     ]
    },
    {
     "name": "stderr",
     "output_type": "stream",
     "text": [
      "     12/150      6.36G      1.415      2.209      1.376        229        640: 100%|██████████| 406/406 [00:35<00:00, 11.49it/s]\n",
      "                 Class     Images  Instances      Box(P          R      mAP50  mAP50-95): 100%|██████████| 41/41 [00:04<00:00,  9.13it/s]\n"
     ]
    },
    {
     "name": "stdout",
     "output_type": "stream",
     "text": [
      "                   all       2008      19885      0.423      0.134      0.105     0.0678\n",
      "\n",
      "      Epoch    GPU_mem   box_loss   cls_loss   dfl_loss  Instances       Size\n"
     ]
    },
    {
     "name": "stderr",
     "output_type": "stream",
     "text": [
      "     13/150      5.43G      1.404      2.171      1.369        241        640: 100%|██████████| 406/406 [00:35<00:00, 11.57it/s]\n",
      "                 Class     Images  Instances      Box(P          R      mAP50  mAP50-95): 100%|██████████| 41/41 [00:04<00:00,  8.57it/s]\n"
     ]
    },
    {
     "name": "stdout",
     "output_type": "stream",
     "text": [
      "                   all       2008      19885      0.399      0.151      0.116     0.0756\n",
      "\n",
      "      Epoch    GPU_mem   box_loss   cls_loss   dfl_loss  Instances       Size\n"
     ]
    },
    {
     "name": "stderr",
     "output_type": "stream",
     "text": [
      "     14/150      4.85G       1.39      2.133      1.362        163        640: 100%|██████████| 406/406 [00:35<00:00, 11.50it/s]\n",
      "                 Class     Images  Instances      Box(P          R      mAP50  mAP50-95): 100%|██████████| 41/41 [00:04<00:00,  8.27it/s]\n"
     ]
    },
    {
     "name": "stdout",
     "output_type": "stream",
     "text": [
      "                   all       2008      19885      0.409      0.138      0.115     0.0732\n",
      "\n",
      "      Epoch    GPU_mem   box_loss   cls_loss   dfl_loss  Instances       Size\n"
     ]
    },
    {
     "name": "stderr",
     "output_type": "stream",
     "text": [
      "     15/150      5.83G      1.391      2.119      1.362        250        640: 100%|██████████| 406/406 [00:34<00:00, 11.67it/s]\n",
      "                 Class     Images  Instances      Box(P          R      mAP50  mAP50-95): 100%|██████████| 41/41 [00:05<00:00,  7.90it/s]\n"
     ]
    },
    {
     "name": "stdout",
     "output_type": "stream",
     "text": [
      "                   all       2008      19885      0.442      0.144      0.118     0.0771\n",
      "\n",
      "      Epoch    GPU_mem   box_loss   cls_loss   dfl_loss  Instances       Size\n"
     ]
    },
    {
     "name": "stderr",
     "output_type": "stream",
     "text": [
      "     16/150      5.22G      1.384      2.102      1.356        358        640: 100%|██████████| 406/406 [00:35<00:00, 11.34it/s]\n",
      "                 Class     Images  Instances      Box(P          R      mAP50  mAP50-95): 100%|██████████| 41/41 [00:04<00:00,  9.29it/s]\n"
     ]
    },
    {
     "name": "stdout",
     "output_type": "stream",
     "text": [
      "                   all       2008      19885      0.434       0.15      0.124     0.0806\n",
      "\n",
      "      Epoch    GPU_mem   box_loss   cls_loss   dfl_loss  Instances       Size\n"
     ]
    },
    {
     "name": "stderr",
     "output_type": "stream",
     "text": [
      "     17/150      5.69G      1.376      2.074      1.353        229        640: 100%|██████████| 406/406 [00:35<00:00, 11.46it/s]\n",
      "                 Class     Images  Instances      Box(P          R      mAP50  mAP50-95): 100%|██████████| 41/41 [00:04<00:00,  8.81it/s]\n"
     ]
    },
    {
     "name": "stdout",
     "output_type": "stream",
     "text": [
      "                   all       2008      19885      0.427      0.159      0.128     0.0819\n",
      "\n",
      "      Epoch    GPU_mem   box_loss   cls_loss   dfl_loss  Instances       Size\n"
     ]
    },
    {
     "name": "stderr",
     "output_type": "stream",
     "text": [
      "     18/150      6.39G      1.369      2.064      1.344        336        640: 100%|██████████| 406/406 [00:34<00:00, 11.65it/s]\n",
      "                 Class     Images  Instances      Box(P          R      mAP50  mAP50-95): 100%|██████████| 41/41 [00:04<00:00,  8.78it/s]\n"
     ]
    },
    {
     "name": "stdout",
     "output_type": "stream",
     "text": [
      "                   all       2008      19885      0.479      0.167      0.145     0.0922\n",
      "\n",
      "      Epoch    GPU_mem   box_loss   cls_loss   dfl_loss  Instances       Size\n"
     ]
    },
    {
     "name": "stderr",
     "output_type": "stream",
     "text": [
      "     19/150      5.65G      1.363      2.037      1.344        268        640: 100%|██████████| 406/406 [00:35<00:00, 11.58it/s]\n",
      "                 Class     Images  Instances      Box(P          R      mAP50  mAP50-95): 100%|██████████| 41/41 [00:04<00:00,  8.93it/s]\n"
     ]
    },
    {
     "name": "stdout",
     "output_type": "stream",
     "text": [
      "                   all       2008      19885      0.468       0.16      0.141     0.0926\n",
      "\n",
      "      Epoch    GPU_mem   box_loss   cls_loss   dfl_loss  Instances       Size\n"
     ]
    },
    {
     "name": "stderr",
     "output_type": "stream",
     "text": [
      "     20/150      6.23G       1.36      2.024      1.339        264        640: 100%|██████████| 406/406 [00:35<00:00, 11.59it/s]\n",
      "                 Class     Images  Instances      Box(P          R      mAP50  mAP50-95): 100%|██████████| 41/41 [00:04<00:00,  8.82it/s]\n"
     ]
    },
    {
     "name": "stdout",
     "output_type": "stream",
     "text": [
      "                   all       2008      19885      0.442      0.167      0.149     0.0977\n",
      "\n",
      "      Epoch    GPU_mem   box_loss   cls_loss   dfl_loss  Instances       Size\n"
     ]
    },
    {
     "name": "stderr",
     "output_type": "stream",
     "text": [
      "     21/150      6.31G      1.356      2.007      1.338        166        640: 100%|██████████| 406/406 [00:35<00:00, 11.55it/s]\n",
      "                 Class     Images  Instances      Box(P          R      mAP50  mAP50-95): 100%|██████████| 41/41 [00:04<00:00,  8.71it/s]\n"
     ]
    },
    {
     "name": "stdout",
     "output_type": "stream",
     "text": [
      "                   all       2008      19885      0.483      0.155      0.152     0.0991\n",
      "\n",
      "      Epoch    GPU_mem   box_loss   cls_loss   dfl_loss  Instances       Size\n"
     ]
    },
    {
     "name": "stderr",
     "output_type": "stream",
     "text": [
      "     22/150      5.18G      1.351       1.99      1.333        394        640: 100%|██████████| 406/406 [00:35<00:00, 11.59it/s]\n",
      "                 Class     Images  Instances      Box(P          R      mAP50  mAP50-95): 100%|██████████| 41/41 [00:04<00:00,  9.27it/s]\n"
     ]
    },
    {
     "name": "stdout",
     "output_type": "stream",
     "text": [
      "                   all       2008      19885      0.477      0.174      0.154      0.102\n",
      "\n",
      "      Epoch    GPU_mem   box_loss   cls_loss   dfl_loss  Instances       Size\n"
     ]
    },
    {
     "name": "stderr",
     "output_type": "stream",
     "text": [
      "     23/150      5.11G      1.344      1.972      1.328        231        640: 100%|██████████| 406/406 [00:34<00:00, 11.77it/s]\n",
      "                 Class     Images  Instances      Box(P          R      mAP50  mAP50-95): 100%|██████████| 41/41 [00:04<00:00,  9.12it/s]\n"
     ]
    },
    {
     "name": "stdout",
     "output_type": "stream",
     "text": [
      "                   all       2008      19885      0.494      0.171      0.155      0.103\n",
      "\n",
      "      Epoch    GPU_mem   box_loss   cls_loss   dfl_loss  Instances       Size\n"
     ]
    },
    {
     "name": "stderr",
     "output_type": "stream",
     "text": [
      "     24/150      7.01G      1.335      1.953      1.326        239        640: 100%|██████████| 406/406 [00:35<00:00, 11.44it/s]\n",
      "                 Class     Images  Instances      Box(P          R      mAP50  mAP50-95): 100%|██████████| 41/41 [00:04<00:00,  9.19it/s]\n"
     ]
    },
    {
     "name": "stdout",
     "output_type": "stream",
     "text": [
      "                   all       2008      19885      0.507      0.168      0.162      0.107\n",
      "\n",
      "      Epoch    GPU_mem   box_loss   cls_loss   dfl_loss  Instances       Size\n"
     ]
    },
    {
     "name": "stderr",
     "output_type": "stream",
     "text": [
      "     25/150      4.93G      1.343      1.953      1.326        260        640: 100%|██████████| 406/406 [00:34<00:00, 11.64it/s]\n",
      "                 Class     Images  Instances      Box(P          R      mAP50  mAP50-95): 100%|██████████| 41/41 [00:04<00:00,  9.20it/s]\n"
     ]
    },
    {
     "name": "stdout",
     "output_type": "stream",
     "text": [
      "                   all       2008      19885      0.471      0.176      0.161      0.108\n",
      "\n",
      "      Epoch    GPU_mem   box_loss   cls_loss   dfl_loss  Instances       Size\n"
     ]
    },
    {
     "name": "stderr",
     "output_type": "stream",
     "text": [
      "     26/150      5.43G      1.339      1.945      1.322        293        640: 100%|██████████| 406/406 [00:34<00:00, 11.68it/s]\n",
      "                 Class     Images  Instances      Box(P          R      mAP50  mAP50-95): 100%|██████████| 41/41 [00:04<00:00,  9.32it/s]\n"
     ]
    },
    {
     "name": "stdout",
     "output_type": "stream",
     "text": [
      "                   all       2008      19885      0.446      0.189       0.16      0.107\n",
      "\n",
      "      Epoch    GPU_mem   box_loss   cls_loss   dfl_loss  Instances       Size\n"
     ]
    },
    {
     "name": "stderr",
     "output_type": "stream",
     "text": [
      "     27/150      5.01G      1.328      1.928      1.316        171        640: 100%|██████████| 406/406 [00:34<00:00, 11.66it/s]\n",
      "                 Class     Images  Instances      Box(P          R      mAP50  mAP50-95): 100%|██████████| 41/41 [00:04<00:00,  9.23it/s]\n"
     ]
    },
    {
     "name": "stdout",
     "output_type": "stream",
     "text": [
      "                   all       2008      19885      0.516      0.186      0.173      0.114\n",
      "\n",
      "      Epoch    GPU_mem   box_loss   cls_loss   dfl_loss  Instances       Size\n"
     ]
    },
    {
     "name": "stderr",
     "output_type": "stream",
     "text": [
      "     28/150      6.43G      1.325      1.917      1.317        353        640: 100%|██████████| 406/406 [00:35<00:00, 11.56it/s]\n",
      "                 Class     Images  Instances      Box(P          R      mAP50  mAP50-95): 100%|██████████| 41/41 [00:04<00:00,  9.29it/s]\n"
     ]
    },
    {
     "name": "stdout",
     "output_type": "stream",
     "text": [
      "                   all       2008      19885       0.49      0.193      0.171      0.116\n",
      "\n",
      "      Epoch    GPU_mem   box_loss   cls_loss   dfl_loss  Instances       Size\n"
     ]
    },
    {
     "name": "stderr",
     "output_type": "stream",
     "text": [
      "     29/150      5.91G      1.329      1.906      1.315        314        640: 100%|██████████| 406/406 [00:35<00:00, 11.45it/s]\n",
      "                 Class     Images  Instances      Box(P          R      mAP50  mAP50-95): 100%|██████████| 41/41 [00:04<00:00,  9.58it/s]\n"
     ]
    },
    {
     "name": "stdout",
     "output_type": "stream",
     "text": [
      "                   all       2008      19885      0.489      0.194      0.171      0.115\n",
      "\n",
      "      Epoch    GPU_mem   box_loss   cls_loss   dfl_loss  Instances       Size\n"
     ]
    },
    {
     "name": "stderr",
     "output_type": "stream",
     "text": [
      "     30/150      5.94G      1.321        1.9      1.312        230        640: 100%|██████████| 406/406 [00:35<00:00, 11.49it/s]\n",
      "                 Class     Images  Instances      Box(P          R      mAP50  mAP50-95): 100%|██████████| 41/41 [00:04<00:00,  9.28it/s]\n"
     ]
    },
    {
     "name": "stdout",
     "output_type": "stream",
     "text": [
      "                   all       2008      19885       0.49      0.198      0.181      0.122\n",
      "\n",
      "      Epoch    GPU_mem   box_loss   cls_loss   dfl_loss  Instances       Size\n"
     ]
    },
    {
     "name": "stderr",
     "output_type": "stream",
     "text": [
      "     31/150      5.42G      1.321      1.896      1.311        251        640: 100%|██████████| 406/406 [00:35<00:00, 11.52it/s]\n",
      "                 Class     Images  Instances      Box(P          R      mAP50  mAP50-95): 100%|██████████| 41/41 [00:04<00:00,  9.18it/s]\n"
     ]
    },
    {
     "name": "stdout",
     "output_type": "stream",
     "text": [
      "                   all       2008      19885      0.475      0.208      0.176      0.118\n",
      "\n",
      "      Epoch    GPU_mem   box_loss   cls_loss   dfl_loss  Instances       Size\n"
     ]
    },
    {
     "name": "stderr",
     "output_type": "stream",
     "text": [
      "     32/150      6.86G      1.315      1.886      1.305        349        640: 100%|██████████| 406/406 [00:35<00:00, 11.51it/s]\n",
      "                 Class     Images  Instances      Box(P          R      mAP50  mAP50-95): 100%|██████████| 41/41 [00:04<00:00,  9.14it/s]\n"
     ]
    },
    {
     "name": "stdout",
     "output_type": "stream",
     "text": [
      "                   all       2008      19885      0.465      0.201      0.181      0.122\n",
      "\n",
      "      Epoch    GPU_mem   box_loss   cls_loss   dfl_loss  Instances       Size\n"
     ]
    },
    {
     "name": "stderr",
     "output_type": "stream",
     "text": [
      "     33/150      5.56G      1.311      1.866      1.304        231        640: 100%|██████████| 406/406 [00:34<00:00, 11.72it/s]\n",
      "                 Class     Images  Instances      Box(P          R      mAP50  mAP50-95): 100%|██████████| 41/41 [00:04<00:00,  9.49it/s]\n"
     ]
    },
    {
     "name": "stdout",
     "output_type": "stream",
     "text": [
      "                   all       2008      19885      0.528      0.197      0.193      0.129\n",
      "\n",
      "      Epoch    GPU_mem   box_loss   cls_loss   dfl_loss  Instances       Size\n"
     ]
    },
    {
     "name": "stderr",
     "output_type": "stream",
     "text": [
      "     34/150      5.23G      1.314      1.866      1.307        308        640: 100%|██████████| 406/406 [00:35<00:00, 11.43it/s]\n",
      "                 Class     Images  Instances      Box(P          R      mAP50  mAP50-95): 100%|██████████| 41/41 [00:04<00:00,  8.97it/s]\n"
     ]
    },
    {
     "name": "stdout",
     "output_type": "stream",
     "text": [
      "                   all       2008      19885      0.451       0.21      0.184      0.122\n",
      "\n",
      "      Epoch    GPU_mem   box_loss   cls_loss   dfl_loss  Instances       Size\n"
     ]
    },
    {
     "name": "stderr",
     "output_type": "stream",
     "text": [
      "     35/150      5.87G      1.301      1.845      1.298        249        640: 100%|██████████| 406/406 [00:35<00:00, 11.56it/s]\n",
      "                 Class     Images  Instances      Box(P          R      mAP50  mAP50-95): 100%|██████████| 41/41 [00:04<00:00,  8.75it/s]\n"
     ]
    },
    {
     "name": "stdout",
     "output_type": "stream",
     "text": [
      "                   all       2008      19885       0.49       0.21       0.19      0.128\n",
      "\n",
      "      Epoch    GPU_mem   box_loss   cls_loss   dfl_loss  Instances       Size\n"
     ]
    },
    {
     "name": "stderr",
     "output_type": "stream",
     "text": [
      "     36/150      5.99G      1.306      1.845      1.298        232        640: 100%|██████████| 406/406 [00:35<00:00, 11.50it/s]\n",
      "                 Class     Images  Instances      Box(P          R      mAP50  mAP50-95): 100%|██████████| 41/41 [00:04<00:00,  9.10it/s]\n"
     ]
    },
    {
     "name": "stdout",
     "output_type": "stream",
     "text": [
      "                   all       2008      19885      0.453      0.208      0.186      0.125\n",
      "\n",
      "      Epoch    GPU_mem   box_loss   cls_loss   dfl_loss  Instances       Size\n"
     ]
    },
    {
     "name": "stderr",
     "output_type": "stream",
     "text": [
      "     37/150      6.05G      1.296      1.832      1.296        327        640: 100%|██████████| 406/406 [00:34<00:00, 11.62it/s]\n",
      "                 Class     Images  Instances      Box(P          R      mAP50  mAP50-95): 100%|██████████| 41/41 [00:04<00:00,  9.12it/s]\n"
     ]
    },
    {
     "name": "stdout",
     "output_type": "stream",
     "text": [
      "                   all       2008      19885      0.497      0.212      0.199      0.136\n",
      "\n",
      "      Epoch    GPU_mem   box_loss   cls_loss   dfl_loss  Instances       Size\n"
     ]
    },
    {
     "name": "stderr",
     "output_type": "stream",
     "text": [
      "     38/150       5.1G      1.293      1.832      1.297        205        640: 100%|██████████| 406/406 [00:35<00:00, 11.48it/s]\n",
      "                 Class     Images  Instances      Box(P          R      mAP50  mAP50-95): 100%|██████████| 41/41 [00:04<00:00,  9.05it/s]\n"
     ]
    },
    {
     "name": "stdout",
     "output_type": "stream",
     "text": [
      "                   all       2008      19885      0.521      0.202      0.197      0.132\n",
      "\n",
      "      Epoch    GPU_mem   box_loss   cls_loss   dfl_loss  Instances       Size\n"
     ]
    },
    {
     "name": "stderr",
     "output_type": "stream",
     "text": [
      "     39/150      5.54G      1.292      1.825      1.294        244        640: 100%|██████████| 406/406 [00:35<00:00, 11.55it/s]\n",
      "                 Class     Images  Instances      Box(P          R      mAP50  mAP50-95): 100%|██████████| 41/41 [00:04<00:00,  8.92it/s]\n"
     ]
    },
    {
     "name": "stdout",
     "output_type": "stream",
     "text": [
      "                   all       2008      19885       0.48      0.213      0.197      0.133\n",
      "\n",
      "      Epoch    GPU_mem   box_loss   cls_loss   dfl_loss  Instances       Size\n"
     ]
    },
    {
     "name": "stderr",
     "output_type": "stream",
     "text": [
      "     40/150      6.14G      1.294      1.814      1.293        312        640: 100%|██████████| 406/406 [00:35<00:00, 11.57it/s]\n",
      "                 Class     Images  Instances      Box(P          R      mAP50  mAP50-95): 100%|██████████| 41/41 [00:04<00:00,  9.14it/s]\n"
     ]
    },
    {
     "name": "stdout",
     "output_type": "stream",
     "text": [
      "                   all       2008      19885      0.485       0.22        0.2      0.135\n",
      "\n",
      "      Epoch    GPU_mem   box_loss   cls_loss   dfl_loss  Instances       Size\n"
     ]
    },
    {
     "name": "stderr",
     "output_type": "stream",
     "text": [
      "     41/150      5.29G      1.293      1.807      1.291        216        640: 100%|██████████| 406/406 [00:35<00:00, 11.59it/s]\n",
      "                 Class     Images  Instances      Box(P          R      mAP50  mAP50-95): 100%|██████████| 41/41 [00:04<00:00,  9.21it/s]\n"
     ]
    },
    {
     "name": "stdout",
     "output_type": "stream",
     "text": [
      "                   all       2008      19885      0.497      0.212      0.202      0.137\n",
      "\n",
      "      Epoch    GPU_mem   box_loss   cls_loss   dfl_loss  Instances       Size\n"
     ]
    },
    {
     "name": "stderr",
     "output_type": "stream",
     "text": [
      "     42/150      4.88G      1.288      1.804       1.29        185        640: 100%|██████████| 406/406 [00:34<00:00, 11.70it/s]\n",
      "                 Class     Images  Instances      Box(P          R      mAP50  mAP50-95): 100%|██████████| 41/41 [00:04<00:00,  9.55it/s]\n"
     ]
    },
    {
     "name": "stdout",
     "output_type": "stream",
     "text": [
      "                   all       2008      19885      0.457      0.226      0.204      0.139\n",
      "\n",
      "      Epoch    GPU_mem   box_loss   cls_loss   dfl_loss  Instances       Size\n"
     ]
    },
    {
     "name": "stderr",
     "output_type": "stream",
     "text": [
      "     43/150      6.21G      1.288        1.8      1.289        338        640: 100%|██████████| 406/406 [00:34<00:00, 11.63it/s]\n",
      "                 Class     Images  Instances      Box(P          R      mAP50  mAP50-95): 100%|██████████| 41/41 [00:04<00:00,  9.24it/s]\n"
     ]
    },
    {
     "name": "stdout",
     "output_type": "stream",
     "text": [
      "                   all       2008      19885      0.434      0.225      0.204      0.139\n",
      "\n",
      "      Epoch    GPU_mem   box_loss   cls_loss   dfl_loss  Instances       Size\n"
     ]
    },
    {
     "name": "stderr",
     "output_type": "stream",
     "text": [
      "     44/150      5.45G      1.288      1.802       1.29        192        640: 100%|██████████| 406/406 [00:35<00:00, 11.41it/s]\n",
      "                 Class     Images  Instances      Box(P          R      mAP50  mAP50-95): 100%|██████████| 41/41 [00:04<00:00,  9.11it/s]\n"
     ]
    },
    {
     "name": "stdout",
     "output_type": "stream",
     "text": [
      "                   all       2008      19885      0.458      0.219      0.209      0.145\n",
      "\n",
      "      Epoch    GPU_mem   box_loss   cls_loss   dfl_loss  Instances       Size\n"
     ]
    },
    {
     "name": "stderr",
     "output_type": "stream",
     "text": [
      "     45/150      6.56G      1.283      1.783      1.284        317        640: 100%|██████████| 406/406 [00:35<00:00, 11.43it/s]\n",
      "                 Class     Images  Instances      Box(P          R      mAP50  mAP50-95): 100%|██████████| 41/41 [00:04<00:00,  8.96it/s]\n"
     ]
    },
    {
     "name": "stdout",
     "output_type": "stream",
     "text": [
      "                   all       2008      19885      0.499      0.218      0.218      0.147\n",
      "\n",
      "      Epoch    GPU_mem   box_loss   cls_loss   dfl_loss  Instances       Size\n"
     ]
    },
    {
     "name": "stderr",
     "output_type": "stream",
     "text": [
      "     46/150      6.01G      1.279      1.782      1.283        354        640: 100%|██████████| 406/406 [00:35<00:00, 11.55it/s]\n",
      "                 Class     Images  Instances      Box(P          R      mAP50  mAP50-95): 100%|██████████| 41/41 [00:04<00:00,  8.93it/s]\n"
     ]
    },
    {
     "name": "stdout",
     "output_type": "stream",
     "text": [
      "                   all       2008      19885        0.5      0.216      0.212      0.145\n",
      "\n",
      "      Epoch    GPU_mem   box_loss   cls_loss   dfl_loss  Instances       Size\n"
     ]
    },
    {
     "name": "stderr",
     "output_type": "stream",
     "text": [
      "     47/150      6.19G      1.275       1.76      1.281        250        640: 100%|██████████| 406/406 [00:35<00:00, 11.50it/s]\n",
      "                 Class     Images  Instances      Box(P          R      mAP50  mAP50-95): 100%|██████████| 41/41 [00:04<00:00,  9.13it/s]\n"
     ]
    },
    {
     "name": "stdout",
     "output_type": "stream",
     "text": [
      "                   all       2008      19885      0.515      0.216      0.211      0.145\n",
      "\n",
      "      Epoch    GPU_mem   box_loss   cls_loss   dfl_loss  Instances       Size\n"
     ]
    },
    {
     "name": "stderr",
     "output_type": "stream",
     "text": [
      "     48/150      6.48G      1.279      1.762       1.28        325        640: 100%|██████████| 406/406 [00:35<00:00, 11.33it/s]\n",
      "                 Class     Images  Instances      Box(P          R      mAP50  mAP50-95): 100%|██████████| 41/41 [00:04<00:00,  9.00it/s]\n"
     ]
    },
    {
     "name": "stdout",
     "output_type": "stream",
     "text": [
      "                   all       2008      19885      0.517      0.221      0.215      0.146\n",
      "\n",
      "      Epoch    GPU_mem   box_loss   cls_loss   dfl_loss  Instances       Size\n"
     ]
    },
    {
     "name": "stderr",
     "output_type": "stream",
     "text": [
      "     49/150      6.73G      1.273      1.756      1.277        170        640: 100%|██████████| 406/406 [00:35<00:00, 11.45it/s]\n",
      "                 Class     Images  Instances      Box(P          R      mAP50  mAP50-95): 100%|██████████| 41/41 [00:04<00:00,  9.35it/s]\n"
     ]
    },
    {
     "name": "stdout",
     "output_type": "stream",
     "text": [
      "                   all       2008      19885      0.478      0.221      0.214      0.147\n",
      "\n",
      "      Epoch    GPU_mem   box_loss   cls_loss   dfl_loss  Instances       Size\n"
     ]
    },
    {
     "name": "stderr",
     "output_type": "stream",
     "text": [
      "     50/150      7.76G      1.267      1.754      1.275        277        640: 100%|██████████| 406/406 [00:34<00:00, 11.71it/s]\n",
      "                 Class     Images  Instances      Box(P          R      mAP50  mAP50-95): 100%|██████████| 41/41 [00:04<00:00,  9.18it/s]\n"
     ]
    },
    {
     "name": "stdout",
     "output_type": "stream",
     "text": [
      "                   all       2008      19885      0.496      0.215      0.217       0.15\n",
      "\n",
      "      Epoch    GPU_mem   box_loss   cls_loss   dfl_loss  Instances       Size\n"
     ]
    },
    {
     "name": "stderr",
     "output_type": "stream",
     "text": [
      "     51/150       5.7G      1.272      1.746      1.278        378        640: 100%|██████████| 406/406 [00:36<00:00, 11.25it/s]\n",
      "                 Class     Images  Instances      Box(P          R      mAP50  mAP50-95): 100%|██████████| 41/41 [00:04<00:00,  9.06it/s]\n"
     ]
    },
    {
     "name": "stdout",
     "output_type": "stream",
     "text": [
      "                   all       2008      19885      0.503      0.225      0.221      0.154\n",
      "\n",
      "      Epoch    GPU_mem   box_loss   cls_loss   dfl_loss  Instances       Size\n"
     ]
    },
    {
     "name": "stderr",
     "output_type": "stream",
     "text": [
      "     52/150      5.33G      1.269      1.741      1.275        268        640: 100%|██████████| 406/406 [00:36<00:00, 11.16it/s]\n",
      "                 Class     Images  Instances      Box(P          R      mAP50  mAP50-95): 100%|██████████| 41/41 [00:04<00:00,  9.24it/s]\n"
     ]
    },
    {
     "name": "stdout",
     "output_type": "stream",
     "text": [
      "                   all       2008      19885      0.466      0.232      0.221      0.153\n",
      "\n",
      "      Epoch    GPU_mem   box_loss   cls_loss   dfl_loss  Instances       Size\n"
     ]
    },
    {
     "name": "stderr",
     "output_type": "stream",
     "text": [
      "     53/150      5.03G      1.263      1.736       1.27        191        640: 100%|██████████| 406/406 [00:35<00:00, 11.41it/s]\n",
      "                 Class     Images  Instances      Box(P          R      mAP50  mAP50-95): 100%|██████████| 41/41 [00:04<00:00,  9.14it/s]\n"
     ]
    },
    {
     "name": "stdout",
     "output_type": "stream",
     "text": [
      "                   all       2008      19885      0.509      0.232      0.223      0.155\n",
      "\n",
      "      Epoch    GPU_mem   box_loss   cls_loss   dfl_loss  Instances       Size\n"
     ]
    },
    {
     "name": "stderr",
     "output_type": "stream",
     "text": [
      "     54/150      6.24G      1.265      1.731      1.271        285        640: 100%|██████████| 406/406 [00:35<00:00, 11.53it/s]\n",
      "                 Class     Images  Instances      Box(P          R      mAP50  mAP50-95): 100%|██████████| 41/41 [00:04<00:00,  8.94it/s]\n"
     ]
    },
    {
     "name": "stdout",
     "output_type": "stream",
     "text": [
      "                   all       2008      19885      0.456      0.234      0.226      0.157\n",
      "\n",
      "      Epoch    GPU_mem   box_loss   cls_loss   dfl_loss  Instances       Size\n"
     ]
    },
    {
     "name": "stderr",
     "output_type": "stream",
     "text": [
      "     55/150      5.51G      1.262      1.734      1.273        241        640: 100%|██████████| 406/406 [00:35<00:00, 11.34it/s]\n",
      "                 Class     Images  Instances      Box(P          R      mAP50  mAP50-95): 100%|██████████| 41/41 [00:04<00:00,  8.94it/s]\n"
     ]
    },
    {
     "name": "stdout",
     "output_type": "stream",
     "text": [
      "                   all       2008      19885      0.477      0.239      0.229      0.159\n",
      "\n",
      "      Epoch    GPU_mem   box_loss   cls_loss   dfl_loss  Instances       Size\n"
     ]
    },
    {
     "name": "stderr",
     "output_type": "stream",
     "text": [
      "     56/150       5.2G      1.254      1.719       1.27        222        640: 100%|██████████| 406/406 [00:35<00:00, 11.33it/s]\n",
      "                 Class     Images  Instances      Box(P          R      mAP50  mAP50-95): 100%|██████████| 41/41 [00:04<00:00,  8.94it/s]\n"
     ]
    },
    {
     "name": "stdout",
     "output_type": "stream",
     "text": [
      "                   all       2008      19885      0.496      0.234      0.232       0.16\n",
      "\n",
      "      Epoch    GPU_mem   box_loss   cls_loss   dfl_loss  Instances       Size\n"
     ]
    },
    {
     "name": "stderr",
     "output_type": "stream",
     "text": [
      "     57/150      6.26G      1.253      1.714      1.268        312        640: 100%|██████████| 406/406 [00:36<00:00, 11.22it/s]\n",
      "                 Class     Images  Instances      Box(P          R      mAP50  mAP50-95): 100%|██████████| 41/41 [00:04<00:00,  8.63it/s]\n"
     ]
    },
    {
     "name": "stdout",
     "output_type": "stream",
     "text": [
      "                   all       2008      19885      0.488      0.235      0.232       0.16\n",
      "\n",
      "      Epoch    GPU_mem   box_loss   cls_loss   dfl_loss  Instances       Size\n"
     ]
    },
    {
     "name": "stderr",
     "output_type": "stream",
     "text": [
      "     58/150         6G      1.259      1.704      1.265        224        640: 100%|██████████| 406/406 [00:36<00:00, 11.05it/s]\n",
      "                 Class     Images  Instances      Box(P          R      mAP50  mAP50-95): 100%|██████████| 41/41 [00:04<00:00,  9.06it/s]\n"
     ]
    },
    {
     "name": "stdout",
     "output_type": "stream",
     "text": [
      "                   all       2008      19885      0.517      0.226      0.231      0.161\n",
      "\n",
      "      Epoch    GPU_mem   box_loss   cls_loss   dfl_loss  Instances       Size\n"
     ]
    },
    {
     "name": "stderr",
     "output_type": "stream",
     "text": [
      "     59/150      6.26G      1.254        1.7      1.264        304        640: 100%|██████████| 406/406 [00:35<00:00, 11.33it/s]\n",
      "                 Class     Images  Instances      Box(P          R      mAP50  mAP50-95): 100%|██████████| 41/41 [00:04<00:00,  9.14it/s]\n"
     ]
    },
    {
     "name": "stdout",
     "output_type": "stream",
     "text": [
      "                   all       2008      19885      0.465      0.241       0.23      0.161\n",
      "\n",
      "      Epoch    GPU_mem   box_loss   cls_loss   dfl_loss  Instances       Size\n"
     ]
    },
    {
     "name": "stderr",
     "output_type": "stream",
     "text": [
      "     60/150      6.51G      1.248      1.695       1.26        208        640: 100%|██████████| 406/406 [00:36<00:00, 10.99it/s]\n",
      "                 Class     Images  Instances      Box(P          R      mAP50  mAP50-95): 100%|██████████| 41/41 [00:04<00:00,  9.13it/s]\n"
     ]
    },
    {
     "name": "stdout",
     "output_type": "stream",
     "text": [
      "                   all       2008      19885       0.47      0.244      0.232      0.161\n",
      "\n",
      "      Epoch    GPU_mem   box_loss   cls_loss   dfl_loss  Instances       Size\n"
     ]
    },
    {
     "name": "stderr",
     "output_type": "stream",
     "text": [
      "     61/150       4.9G      1.251      1.693      1.263        248        640: 100%|██████████| 406/406 [00:36<00:00, 11.08it/s]\n",
      "                 Class     Images  Instances      Box(P          R      mAP50  mAP50-95): 100%|██████████| 41/41 [00:04<00:00,  9.26it/s]\n"
     ]
    },
    {
     "name": "stdout",
     "output_type": "stream",
     "text": [
      "                   all       2008      19885      0.501      0.227      0.231       0.16\n",
      "\n",
      "      Epoch    GPU_mem   box_loss   cls_loss   dfl_loss  Instances       Size\n"
     ]
    },
    {
     "name": "stderr",
     "output_type": "stream",
     "text": [
      "     62/150      6.29G      1.251      1.688      1.262        312        640: 100%|██████████| 406/406 [00:35<00:00, 11.47it/s]\n",
      "                 Class     Images  Instances      Box(P          R      mAP50  mAP50-95): 100%|██████████| 41/41 [00:04<00:00,  9.26it/s]\n"
     ]
    },
    {
     "name": "stdout",
     "output_type": "stream",
     "text": [
      "                   all       2008      19885      0.467      0.233      0.235      0.163\n",
      "\n",
      "      Epoch    GPU_mem   box_loss   cls_loss   dfl_loss  Instances       Size\n"
     ]
    },
    {
     "name": "stderr",
     "output_type": "stream",
     "text": [
      "     63/150      5.17G      1.249      1.689      1.263        255        640: 100%|██████████| 406/406 [00:36<00:00, 11.12it/s]\n",
      "                 Class     Images  Instances      Box(P          R      mAP50  mAP50-95): 100%|██████████| 41/41 [00:04<00:00,  9.43it/s]\n"
     ]
    },
    {
     "name": "stdout",
     "output_type": "stream",
     "text": [
      "                   all       2008      19885      0.468       0.24       0.24      0.164\n",
      "\n",
      "      Epoch    GPU_mem   box_loss   cls_loss   dfl_loss  Instances       Size\n"
     ]
    },
    {
     "name": "stderr",
     "output_type": "stream",
     "text": [
      "     64/150      5.54G      1.242      1.672      1.257        251        640: 100%|██████████| 406/406 [00:35<00:00, 11.34it/s]\n",
      "                 Class     Images  Instances      Box(P          R      mAP50  mAP50-95): 100%|██████████| 41/41 [00:04<00:00,  9.39it/s]\n"
     ]
    },
    {
     "name": "stdout",
     "output_type": "stream",
     "text": [
      "                   all       2008      19885      0.454       0.24      0.239      0.166\n",
      "\n",
      "      Epoch    GPU_mem   box_loss   cls_loss   dfl_loss  Instances       Size\n"
     ]
    },
    {
     "name": "stderr",
     "output_type": "stream",
     "text": [
      "     65/150      7.08G      1.245      1.678      1.259        189        640: 100%|██████████| 406/406 [00:37<00:00, 10.91it/s]\n",
      "                 Class     Images  Instances      Box(P          R      mAP50  mAP50-95): 100%|██████████| 41/41 [00:04<00:00,  9.16it/s]\n"
     ]
    },
    {
     "name": "stdout",
     "output_type": "stream",
     "text": [
      "                   all       2008      19885      0.493      0.235      0.239      0.165\n",
      "\n",
      "      Epoch    GPU_mem   box_loss   cls_loss   dfl_loss  Instances       Size\n"
     ]
    },
    {
     "name": "stderr",
     "output_type": "stream",
     "text": [
      "     66/150      6.65G      1.245      1.668       1.26        251        640: 100%|██████████| 406/406 [00:36<00:00, 11.27it/s]\n",
      "                 Class     Images  Instances      Box(P          R      mAP50  mAP50-95): 100%|██████████| 41/41 [00:04<00:00,  9.03it/s]\n"
     ]
    },
    {
     "name": "stdout",
     "output_type": "stream",
     "text": [
      "                   all       2008      19885      0.489      0.234       0.24      0.167\n",
      "\n",
      "      Epoch    GPU_mem   box_loss   cls_loss   dfl_loss  Instances       Size\n"
     ]
    },
    {
     "name": "stderr",
     "output_type": "stream",
     "text": [
      "     67/150      4.92G      1.238      1.661      1.254        212        640: 100%|██████████| 406/406 [00:36<00:00, 11.10it/s]\n",
      "                 Class     Images  Instances      Box(P          R      mAP50  mAP50-95): 100%|██████████| 41/41 [00:04<00:00,  9.18it/s]\n"
     ]
    },
    {
     "name": "stdout",
     "output_type": "stream",
     "text": [
      "                   all       2008      19885      0.502      0.243      0.239      0.166\n",
      "\n",
      "      Epoch    GPU_mem   box_loss   cls_loss   dfl_loss  Instances       Size\n"
     ]
    },
    {
     "name": "stderr",
     "output_type": "stream",
     "text": [
      "     68/150      5.96G      1.242      1.657      1.256        179        640: 100%|██████████| 406/406 [00:35<00:00, 11.32it/s]\n",
      "                 Class     Images  Instances      Box(P          R      mAP50  mAP50-95): 100%|██████████| 41/41 [00:04<00:00,  9.14it/s]\n"
     ]
    },
    {
     "name": "stdout",
     "output_type": "stream",
     "text": [
      "                   all       2008      19885      0.494      0.244      0.238      0.167\n",
      "\n",
      "      Epoch    GPU_mem   box_loss   cls_loss   dfl_loss  Instances       Size\n"
     ]
    },
    {
     "name": "stderr",
     "output_type": "stream",
     "text": [
      "     69/150      6.09G      1.236      1.651      1.252        247        640: 100%|██████████| 406/406 [00:35<00:00, 11.38it/s]\n",
      "                 Class     Images  Instances      Box(P          R      mAP50  mAP50-95): 100%|██████████| 41/41 [00:04<00:00,  9.31it/s]\n"
     ]
    },
    {
     "name": "stdout",
     "output_type": "stream",
     "text": [
      "                   all       2008      19885      0.448      0.251      0.239      0.168\n",
      "\n",
      "      Epoch    GPU_mem   box_loss   cls_loss   dfl_loss  Instances       Size\n"
     ]
    },
    {
     "name": "stderr",
     "output_type": "stream",
     "text": [
      "     70/150      5.65G      1.228       1.65       1.25        330        640: 100%|██████████| 406/406 [00:35<00:00, 11.40it/s]\n",
      "                 Class     Images  Instances      Box(P          R      mAP50  mAP50-95): 100%|██████████| 41/41 [00:04<00:00,  9.15it/s]\n"
     ]
    },
    {
     "name": "stdout",
     "output_type": "stream",
     "text": [
      "                   all       2008      19885      0.538      0.229      0.244      0.171\n",
      "\n",
      "      Epoch    GPU_mem   box_loss   cls_loss   dfl_loss  Instances       Size\n"
     ]
    },
    {
     "name": "stderr",
     "output_type": "stream",
     "text": [
      "     71/150      5.66G      1.237      1.647      1.251        255        640: 100%|██████████| 406/406 [00:35<00:00, 11.46it/s]\n",
      "                 Class     Images  Instances      Box(P          R      mAP50  mAP50-95): 100%|██████████| 41/41 [00:04<00:00,  9.20it/s]\n"
     ]
    },
    {
     "name": "stdout",
     "output_type": "stream",
     "text": [
      "                   all       2008      19885      0.501      0.236      0.242       0.17\n",
      "\n",
      "      Epoch    GPU_mem   box_loss   cls_loss   dfl_loss  Instances       Size\n"
     ]
    },
    {
     "name": "stderr",
     "output_type": "stream",
     "text": [
      "     72/150      6.29G      1.231      1.643      1.253        199        640: 100%|██████████| 406/406 [00:35<00:00, 11.44it/s]\n",
      "                 Class     Images  Instances      Box(P          R      mAP50  mAP50-95): 100%|██████████| 41/41 [00:04<00:00,  9.29it/s]\n"
     ]
    },
    {
     "name": "stdout",
     "output_type": "stream",
     "text": [
      "                   all       2008      19885      0.513      0.248      0.243      0.171\n",
      "\n",
      "      Epoch    GPU_mem   box_loss   cls_loss   dfl_loss  Instances       Size\n"
     ]
    },
    {
     "name": "stderr",
     "output_type": "stream",
     "text": [
      "     73/150       6.1G      1.227      1.638       1.25        220        640: 100%|██████████| 406/406 [00:36<00:00, 11.19it/s]\n",
      "                 Class     Images  Instances      Box(P          R      mAP50  mAP50-95): 100%|██████████| 41/41 [00:04<00:00,  9.32it/s]\n"
     ]
    },
    {
     "name": "stdout",
     "output_type": "stream",
     "text": [
      "                   all       2008      19885      0.518      0.242      0.243       0.17\n",
      "\n",
      "      Epoch    GPU_mem   box_loss   cls_loss   dfl_loss  Instances       Size\n"
     ]
    },
    {
     "name": "stderr",
     "output_type": "stream",
     "text": [
      "     74/150      7.42G      1.231      1.631      1.247        270        640: 100%|██████████| 406/406 [00:35<00:00, 11.41it/s]\n",
      "                 Class     Images  Instances      Box(P          R      mAP50  mAP50-95): 100%|██████████| 41/41 [00:04<00:00,  9.21it/s]\n"
     ]
    },
    {
     "name": "stdout",
     "output_type": "stream",
     "text": [
      "                   all       2008      19885      0.482      0.253      0.245      0.173\n",
      "\n",
      "      Epoch    GPU_mem   box_loss   cls_loss   dfl_loss  Instances       Size\n"
     ]
    },
    {
     "name": "stderr",
     "output_type": "stream",
     "text": [
      "     75/150       4.9G      1.224      1.615      1.245        222        640: 100%|██████████| 406/406 [00:36<00:00, 11.24it/s]\n",
      "                 Class     Images  Instances      Box(P          R      mAP50  mAP50-95): 100%|██████████| 41/41 [00:04<00:00,  8.81it/s]\n"
     ]
    },
    {
     "name": "stdout",
     "output_type": "stream",
     "text": [
      "                   all       2008      19885      0.473      0.247      0.247      0.175\n",
      "\n",
      "      Epoch    GPU_mem   box_loss   cls_loss   dfl_loss  Instances       Size\n"
     ]
    },
    {
     "name": "stderr",
     "output_type": "stream",
     "text": [
      "     76/150      6.22G      1.227       1.62      1.245        251        640: 100%|██████████| 406/406 [00:35<00:00, 11.38it/s]\n",
      "                 Class     Images  Instances      Box(P          R      mAP50  mAP50-95): 100%|██████████| 41/41 [00:04<00:00,  9.29it/s]\n"
     ]
    },
    {
     "name": "stdout",
     "output_type": "stream",
     "text": [
      "                   all       2008      19885      0.444      0.262       0.25      0.176\n",
      "\n",
      "      Epoch    GPU_mem   box_loss   cls_loss   dfl_loss  Instances       Size\n"
     ]
    },
    {
     "name": "stderr",
     "output_type": "stream",
     "text": [
      "     77/150       6.1G       1.22      1.617      1.243        213        640: 100%|██████████| 406/406 [00:35<00:00, 11.55it/s]\n",
      "                 Class     Images  Instances      Box(P          R      mAP50  mAP50-95): 100%|██████████| 41/41 [00:04<00:00,  9.05it/s]\n"
     ]
    },
    {
     "name": "stdout",
     "output_type": "stream",
     "text": [
      "                   all       2008      19885      0.459      0.256      0.247      0.175\n",
      "\n",
      "      Epoch    GPU_mem   box_loss   cls_loss   dfl_loss  Instances       Size\n"
     ]
    },
    {
     "name": "stderr",
     "output_type": "stream",
     "text": [
      "     78/150      5.27G      1.224      1.605      1.242        218        640: 100%|██████████| 406/406 [00:35<00:00, 11.56it/s]\n",
      "                 Class     Images  Instances      Box(P          R      mAP50  mAP50-95): 100%|██████████| 41/41 [00:04<00:00,  9.15it/s]\n"
     ]
    },
    {
     "name": "stdout",
     "output_type": "stream",
     "text": [
      "                   all       2008      19885      0.487      0.253      0.249      0.176\n",
      "\n",
      "      Epoch    GPU_mem   box_loss   cls_loss   dfl_loss  Instances       Size\n"
     ]
    },
    {
     "name": "stderr",
     "output_type": "stream",
     "text": [
      "     79/150      5.16G      1.229       1.62      1.248        238        640: 100%|██████████| 406/406 [00:36<00:00, 11.19it/s]\n",
      "                 Class     Images  Instances      Box(P          R      mAP50  mAP50-95): 100%|██████████| 41/41 [00:04<00:00,  9.34it/s]\n"
     ]
    },
    {
     "name": "stdout",
     "output_type": "stream",
     "text": [
      "                   all       2008      19885      0.502      0.241      0.249      0.177\n",
      "\n",
      "      Epoch    GPU_mem   box_loss   cls_loss   dfl_loss  Instances       Size\n"
     ]
    },
    {
     "name": "stderr",
     "output_type": "stream",
     "text": [
      "     80/150         6G      1.218      1.599      1.241        214        640: 100%|██████████| 406/406 [00:35<00:00, 11.34it/s]\n",
      "                 Class     Images  Instances      Box(P          R      mAP50  mAP50-95): 100%|██████████| 41/41 [00:04<00:00,  9.37it/s]\n"
     ]
    },
    {
     "name": "stdout",
     "output_type": "stream",
     "text": [
      "                   all       2008      19885      0.492      0.245      0.251      0.178\n",
      "\n",
      "      Epoch    GPU_mem   box_loss   cls_loss   dfl_loss  Instances       Size\n"
     ]
    },
    {
     "name": "stderr",
     "output_type": "stream",
     "text": [
      "     81/150      6.17G      1.215      1.596      1.241        291        640: 100%|██████████| 406/406 [00:35<00:00, 11.55it/s]\n",
      "                 Class     Images  Instances      Box(P          R      mAP50  mAP50-95): 100%|██████████| 41/41 [00:04<00:00,  9.26it/s]\n"
     ]
    },
    {
     "name": "stdout",
     "output_type": "stream",
     "text": [
      "                   all       2008      19885      0.507      0.249      0.252      0.178\n",
      "\n",
      "      Epoch    GPU_mem   box_loss   cls_loss   dfl_loss  Instances       Size\n"
     ]
    },
    {
     "name": "stderr",
     "output_type": "stream",
     "text": [
      "     82/150       5.3G       1.22      1.589      1.239        264        640: 100%|██████████| 406/406 [00:36<00:00, 11.24it/s]\n",
      "                 Class     Images  Instances      Box(P          R      mAP50  mAP50-95): 100%|██████████| 41/41 [00:04<00:00,  9.40it/s]\n"
     ]
    },
    {
     "name": "stdout",
     "output_type": "stream",
     "text": [
      "                   all       2008      19885      0.493      0.255      0.251      0.177\n",
      "\n",
      "      Epoch    GPU_mem   box_loss   cls_loss   dfl_loss  Instances       Size\n"
     ]
    },
    {
     "name": "stderr",
     "output_type": "stream",
     "text": [
      "     83/150      5.65G      1.216      1.588      1.238        207        640: 100%|██████████| 406/406 [00:35<00:00, 11.32it/s]\n",
      "                 Class     Images  Instances      Box(P          R      mAP50  mAP50-95): 100%|██████████| 41/41 [00:04<00:00,  9.31it/s]\n"
     ]
    },
    {
     "name": "stdout",
     "output_type": "stream",
     "text": [
      "                   all       2008      19885      0.468      0.256      0.254      0.179\n",
      "\n",
      "      Epoch    GPU_mem   box_loss   cls_loss   dfl_loss  Instances       Size\n"
     ]
    },
    {
     "name": "stderr",
     "output_type": "stream",
     "text": [
      "     84/150      6.09G      1.215      1.586      1.237        294        640: 100%|██████████| 406/406 [00:36<00:00, 11.19it/s]\n",
      "                 Class     Images  Instances      Box(P          R      mAP50  mAP50-95): 100%|██████████| 41/41 [00:04<00:00,  9.40it/s]\n"
     ]
    },
    {
     "name": "stdout",
     "output_type": "stream",
     "text": [
      "                   all       2008      19885      0.453      0.257      0.254      0.179\n",
      "\n",
      "      Epoch    GPU_mem   box_loss   cls_loss   dfl_loss  Instances       Size\n"
     ]
    },
    {
     "name": "stderr",
     "output_type": "stream",
     "text": [
      "     85/150      6.21G      1.214       1.59      1.238        231        640: 100%|██████████| 406/406 [00:35<00:00, 11.36it/s]\n",
      "                 Class     Images  Instances      Box(P          R      mAP50  mAP50-95): 100%|██████████| 41/41 [00:04<00:00,  9.35it/s]\n"
     ]
    },
    {
     "name": "stdout",
     "output_type": "stream",
     "text": [
      "                   all       2008      19885      0.463      0.262      0.254      0.179\n",
      "\n",
      "      Epoch    GPU_mem   box_loss   cls_loss   dfl_loss  Instances       Size\n"
     ]
    },
    {
     "name": "stderr",
     "output_type": "stream",
     "text": [
      "     86/150       5.8G      1.211      1.576      1.238        194        640: 100%|██████████| 406/406 [00:35<00:00, 11.45it/s]\n",
      "                 Class     Images  Instances      Box(P          R      mAP50  mAP50-95): 100%|██████████| 41/41 [00:04<00:00,  9.21it/s]\n"
     ]
    },
    {
     "name": "stdout",
     "output_type": "stream",
     "text": [
      "                   all       2008      19885      0.473       0.26      0.255      0.181\n",
      "\n",
      "      Epoch    GPU_mem   box_loss   cls_loss   dfl_loss  Instances       Size\n"
     ]
    },
    {
     "name": "stderr",
     "output_type": "stream",
     "text": [
      "     87/150      4.93G      1.205       1.57      1.231        360        640: 100%|██████████| 406/406 [00:35<00:00, 11.52it/s]\n",
      "                 Class     Images  Instances      Box(P          R      mAP50  mAP50-95): 100%|██████████| 41/41 [00:04<00:00,  9.32it/s]\n"
     ]
    },
    {
     "name": "stdout",
     "output_type": "stream",
     "text": [
      "                   all       2008      19885      0.467      0.255      0.255      0.181\n",
      "\n",
      "      Epoch    GPU_mem   box_loss   cls_loss   dfl_loss  Instances       Size\n"
     ]
    },
    {
     "name": "stderr",
     "output_type": "stream",
     "text": [
      "     88/150      6.33G      1.209      1.575      1.237        353        640: 100%|██████████| 406/406 [00:35<00:00, 11.30it/s]\n",
      "                 Class     Images  Instances      Box(P          R      mAP50  mAP50-95): 100%|██████████| 41/41 [00:04<00:00,  9.46it/s]\n"
     ]
    },
    {
     "name": "stdout",
     "output_type": "stream",
     "text": [
      "                   all       2008      19885      0.495      0.261      0.258      0.181\n",
      "\n",
      "      Epoch    GPU_mem   box_loss   cls_loss   dfl_loss  Instances       Size\n"
     ]
    },
    {
     "name": "stderr",
     "output_type": "stream",
     "text": [
      "     89/150      5.59G      1.201      1.563      1.231        223        640: 100%|██████████| 406/406 [00:36<00:00, 11.27it/s]\n",
      "                 Class     Images  Instances      Box(P          R      mAP50  mAP50-95): 100%|██████████| 41/41 [00:04<00:00,  9.34it/s]\n"
     ]
    },
    {
     "name": "stdout",
     "output_type": "stream",
     "text": [
      "                   all       2008      19885      0.499      0.255      0.257      0.181\n",
      "\n",
      "      Epoch    GPU_mem   box_loss   cls_loss   dfl_loss  Instances       Size\n"
     ]
    },
    {
     "name": "stderr",
     "output_type": "stream",
     "text": [
      "     90/150      4.85G      1.204      1.564      1.231        199        640: 100%|██████████| 406/406 [00:35<00:00, 11.42it/s]\n",
      "                 Class     Images  Instances      Box(P          R      mAP50  mAP50-95): 100%|██████████| 41/41 [00:04<00:00,  9.37it/s]\n"
     ]
    },
    {
     "name": "stdout",
     "output_type": "stream",
     "text": [
      "                   all       2008      19885      0.502      0.257      0.257      0.181\n",
      "\n",
      "      Epoch    GPU_mem   box_loss   cls_loss   dfl_loss  Instances       Size\n"
     ]
    },
    {
     "name": "stderr",
     "output_type": "stream",
     "text": [
      "     91/150      6.96G      1.198      1.553       1.23        181        640: 100%|██████████| 406/406 [00:36<00:00, 11.26it/s]\n",
      "                 Class     Images  Instances      Box(P          R      mAP50  mAP50-95): 100%|██████████| 41/41 [00:04<00:00,  9.26it/s]\n"
     ]
    },
    {
     "name": "stdout",
     "output_type": "stream",
     "text": [
      "                   all       2008      19885      0.503      0.253      0.257      0.181\n",
      "\n",
      "      Epoch    GPU_mem   box_loss   cls_loss   dfl_loss  Instances       Size\n"
     ]
    },
    {
     "name": "stderr",
     "output_type": "stream",
     "text": [
      "     92/150      6.21G      1.206      1.555      1.233        265        640: 100%|██████████| 406/406 [00:36<00:00, 11.27it/s]\n",
      "                 Class     Images  Instances      Box(P          R      mAP50  mAP50-95): 100%|██████████| 41/41 [00:04<00:00,  9.31it/s]\n"
     ]
    },
    {
     "name": "stdout",
     "output_type": "stream",
     "text": [
      "                   all       2008      19885      0.503       0.25      0.258      0.182\n",
      "\n",
      "      Epoch    GPU_mem   box_loss   cls_loss   dfl_loss  Instances       Size\n"
     ]
    },
    {
     "name": "stderr",
     "output_type": "stream",
     "text": [
      "     93/150      4.77G      1.201      1.552      1.229        230        640: 100%|██████████| 406/406 [00:36<00:00, 11.19it/s]\n",
      "                 Class     Images  Instances      Box(P          R      mAP50  mAP50-95): 100%|██████████| 41/41 [00:04<00:00,  8.82it/s]\n"
     ]
    },
    {
     "name": "stdout",
     "output_type": "stream",
     "text": [
      "                   all       2008      19885      0.495      0.253      0.258      0.181\n",
      "\n",
      "      Epoch    GPU_mem   box_loss   cls_loss   dfl_loss  Instances       Size\n"
     ]
    },
    {
     "name": "stderr",
     "output_type": "stream",
     "text": [
      "     94/150      6.26G      1.201      1.548      1.227        258        640: 100%|██████████| 406/406 [00:35<00:00, 11.34it/s]\n",
      "                 Class     Images  Instances      Box(P          R      mAP50  mAP50-95): 100%|██████████| 41/41 [00:04<00:00,  9.56it/s]\n"
     ]
    },
    {
     "name": "stdout",
     "output_type": "stream",
     "text": [
      "                   all       2008      19885      0.462      0.257      0.258      0.182\n",
      "\n",
      "      Epoch    GPU_mem   box_loss   cls_loss   dfl_loss  Instances       Size\n"
     ]
    },
    {
     "name": "stderr",
     "output_type": "stream",
     "text": [
      "     95/150      6.17G      1.193      1.537      1.228        188        640: 100%|██████████| 406/406 [00:36<00:00, 11.24it/s]\n",
      "                 Class     Images  Instances      Box(P          R      mAP50  mAP50-95): 100%|██████████| 41/41 [00:04<00:00,  9.33it/s]\n"
     ]
    },
    {
     "name": "stdout",
     "output_type": "stream",
     "text": [
      "                   all       2008      19885       0.45      0.255      0.255      0.181\n",
      "\n",
      "      Epoch    GPU_mem   box_loss   cls_loss   dfl_loss  Instances       Size\n"
     ]
    },
    {
     "name": "stderr",
     "output_type": "stream",
     "text": [
      "     96/150      5.38G      1.195      1.534      1.226        202        640: 100%|██████████| 406/406 [00:36<00:00, 11.10it/s]\n",
      "                 Class     Images  Instances      Box(P          R      mAP50  mAP50-95): 100%|██████████| 41/41 [00:04<00:00,  9.29it/s]\n"
     ]
    },
    {
     "name": "stdout",
     "output_type": "stream",
     "text": [
      "                   all       2008      19885      0.461      0.261      0.259      0.182\n",
      "\n",
      "      Epoch    GPU_mem   box_loss   cls_loss   dfl_loss  Instances       Size\n"
     ]
    },
    {
     "name": "stderr",
     "output_type": "stream",
     "text": [
      "     97/150      5.93G      1.189       1.53      1.223        257        640: 100%|██████████| 406/406 [00:35<00:00, 11.32it/s]\n",
      "                 Class     Images  Instances      Box(P          R      mAP50  mAP50-95): 100%|██████████| 41/41 [00:04<00:00,  9.44it/s]\n"
     ]
    },
    {
     "name": "stdout",
     "output_type": "stream",
     "text": [
      "                   all       2008      19885      0.467      0.262      0.259      0.182\n",
      "\n",
      "      Epoch    GPU_mem   box_loss   cls_loss   dfl_loss  Instances       Size\n"
     ]
    },
    {
     "name": "stderr",
     "output_type": "stream",
     "text": [
      "     98/150      5.61G      1.194      1.524      1.224        237        640: 100%|██████████| 406/406 [00:35<00:00, 11.34it/s]\n",
      "                 Class     Images  Instances      Box(P          R      mAP50  mAP50-95): 100%|██████████| 41/41 [00:04<00:00,  9.37it/s]\n"
     ]
    },
    {
     "name": "stdout",
     "output_type": "stream",
     "text": [
      "                   all       2008      19885      0.461      0.262      0.259      0.183\n",
      "\n",
      "      Epoch    GPU_mem   box_loss   cls_loss   dfl_loss  Instances       Size\n"
     ]
    },
    {
     "name": "stderr",
     "output_type": "stream",
     "text": [
      "     99/150       5.8G       1.19      1.528      1.222        217        640: 100%|██████████| 406/406 [00:34<00:00, 11.61it/s]\n",
      "                 Class     Images  Instances      Box(P          R      mAP50  mAP50-95): 100%|██████████| 41/41 [00:04<00:00,  9.45it/s]\n"
     ]
    },
    {
     "name": "stdout",
     "output_type": "stream",
     "text": [
      "                   all       2008      19885      0.491      0.256      0.259      0.184\n",
      "\n",
      "      Epoch    GPU_mem   box_loss   cls_loss   dfl_loss  Instances       Size\n"
     ]
    },
    {
     "name": "stderr",
     "output_type": "stream",
     "text": [
      "    100/150      7.31G      1.188      1.526      1.224        223        640: 100%|██████████| 406/406 [00:35<00:00, 11.43it/s]\n",
      "                 Class     Images  Instances      Box(P          R      mAP50  mAP50-95): 100%|██████████| 41/41 [00:04<00:00,  8.89it/s]\n"
     ]
    },
    {
     "name": "stdout",
     "output_type": "stream",
     "text": [
      "                   all       2008      19885      0.469      0.263       0.26      0.184\n",
      "\n",
      "      Epoch    GPU_mem   box_loss   cls_loss   dfl_loss  Instances       Size\n"
     ]
    },
    {
     "name": "stderr",
     "output_type": "stream",
     "text": [
      "    101/150      6.85G       1.19      1.525      1.223        240        640: 100%|██████████| 406/406 [00:36<00:00, 11.19it/s]\n",
      "                 Class     Images  Instances      Box(P          R      mAP50  mAP50-95): 100%|██████████| 41/41 [00:04<00:00,  9.39it/s]\n"
     ]
    },
    {
     "name": "stdout",
     "output_type": "stream",
     "text": [
      "                   all       2008      19885      0.466      0.266       0.26      0.184\n",
      "\n",
      "      Epoch    GPU_mem   box_loss   cls_loss   dfl_loss  Instances       Size\n"
     ]
    },
    {
     "name": "stderr",
     "output_type": "stream",
     "text": [
      "    102/150      5.07G       1.19      1.515      1.221        188        640: 100%|██████████| 406/406 [00:35<00:00, 11.43it/s]\n",
      "                 Class     Images  Instances      Box(P          R      mAP50  mAP50-95): 100%|██████████| 41/41 [00:04<00:00,  9.55it/s]\n"
     ]
    },
    {
     "name": "stdout",
     "output_type": "stream",
     "text": [
      "                   all       2008      19885       0.47      0.268      0.261      0.185\n",
      "\n",
      "      Epoch    GPU_mem   box_loss   cls_loss   dfl_loss  Instances       Size\n"
     ]
    },
    {
     "name": "stderr",
     "output_type": "stream",
     "text": [
      "    103/150      5.97G      1.185      1.513      1.218        277        640: 100%|██████████| 406/406 [00:35<00:00, 11.39it/s]\n",
      "                 Class     Images  Instances      Box(P          R      mAP50  mAP50-95): 100%|██████████| 41/41 [00:04<00:00,  9.52it/s]\n"
     ]
    },
    {
     "name": "stdout",
     "output_type": "stream",
     "text": [
      "                   all       2008      19885      0.468       0.27      0.261      0.185\n",
      "\n",
      "      Epoch    GPU_mem   box_loss   cls_loss   dfl_loss  Instances       Size\n"
     ]
    },
    {
     "name": "stderr",
     "output_type": "stream",
     "text": [
      "    104/150      5.13G      1.183      1.498      1.217        282        640: 100%|██████████| 406/406 [00:36<00:00, 11.18it/s]\n",
      "                 Class     Images  Instances      Box(P          R      mAP50  mAP50-95): 100%|██████████| 41/41 [00:04<00:00,  9.49it/s]\n"
     ]
    },
    {
     "name": "stdout",
     "output_type": "stream",
     "text": [
      "                   all       2008      19885      0.473      0.263       0.26      0.184\n",
      "\n",
      "      Epoch    GPU_mem   box_loss   cls_loss   dfl_loss  Instances       Size\n"
     ]
    },
    {
     "name": "stderr",
     "output_type": "stream",
     "text": [
      "    105/150      5.43G      1.177      1.496      1.216        185        640: 100%|██████████| 406/406 [00:35<00:00, 11.29it/s]\n",
      "                 Class     Images  Instances      Box(P          R      mAP50  mAP50-95): 100%|██████████| 41/41 [00:04<00:00,  9.39it/s]\n"
     ]
    },
    {
     "name": "stdout",
     "output_type": "stream",
     "text": [
      "                   all       2008      19885      0.459      0.264       0.26      0.185\n",
      "\n",
      "      Epoch    GPU_mem   box_loss   cls_loss   dfl_loss  Instances       Size\n"
     ]
    },
    {
     "name": "stderr",
     "output_type": "stream",
     "text": [
      "    106/150      6.18G      1.178      1.496      1.214        218        640: 100%|██████████| 406/406 [00:35<00:00, 11.48it/s]\n",
      "                 Class     Images  Instances      Box(P          R      mAP50  mAP50-95): 100%|██████████| 41/41 [00:04<00:00,  9.42it/s]\n"
     ]
    },
    {
     "name": "stdout",
     "output_type": "stream",
     "text": [
      "                   all       2008      19885      0.459      0.266       0.26      0.185\n",
      "\n",
      "      Epoch    GPU_mem   box_loss   cls_loss   dfl_loss  Instances       Size\n"
     ]
    },
    {
     "name": "stderr",
     "output_type": "stream",
     "text": [
      "    107/150         6G      1.178      1.486      1.215        229        640: 100%|██████████| 406/406 [00:35<00:00, 11.32it/s]\n",
      "                 Class     Images  Instances      Box(P          R      mAP50  mAP50-95): 100%|██████████| 41/41 [00:04<00:00,  9.40it/s]\n"
     ]
    },
    {
     "name": "stdout",
     "output_type": "stream",
     "text": [
      "                   all       2008      19885      0.465      0.265      0.261      0.185\n",
      "\n",
      "      Epoch    GPU_mem   box_loss   cls_loss   dfl_loss  Instances       Size\n"
     ]
    },
    {
     "name": "stderr",
     "output_type": "stream",
     "text": [
      "    108/150         5G      1.174      1.485      1.212        139        640: 100%|██████████| 406/406 [00:36<00:00, 11.22it/s]\n",
      "                 Class     Images  Instances      Box(P          R      mAP50  mAP50-95): 100%|██████████| 41/41 [00:04<00:00,  9.36it/s]\n"
     ]
    },
    {
     "name": "stdout",
     "output_type": "stream",
     "text": [
      "                   all       2008      19885      0.463      0.266      0.261      0.185\n",
      "\n",
      "      Epoch    GPU_mem   box_loss   cls_loss   dfl_loss  Instances       Size\n"
     ]
    },
    {
     "name": "stderr",
     "output_type": "stream",
     "text": [
      "    109/150      5.21G      1.175      1.482      1.213        193        640: 100%|██████████| 406/406 [00:35<00:00, 11.48it/s]\n",
      "                 Class     Images  Instances      Box(P          R      mAP50  mAP50-95): 100%|██████████| 41/41 [00:04<00:00,  9.51it/s]\n"
     ]
    },
    {
     "name": "stdout",
     "output_type": "stream",
     "text": [
      "                   all       2008      19885      0.468      0.266      0.262      0.186\n",
      "\n",
      "      Epoch    GPU_mem   box_loss   cls_loss   dfl_loss  Instances       Size\n"
     ]
    },
    {
     "name": "stderr",
     "output_type": "stream",
     "text": [
      "    110/150      7.33G      1.174      1.481      1.212        236        640: 100%|██████████| 406/406 [00:35<00:00, 11.49it/s]\n",
      "                 Class     Images  Instances      Box(P          R      mAP50  mAP50-95): 100%|██████████| 41/41 [00:04<00:00,  9.50it/s]\n"
     ]
    },
    {
     "name": "stdout",
     "output_type": "stream",
     "text": [
      "                   all       2008      19885       0.46       0.27      0.263      0.186\n",
      "\n",
      "      Epoch    GPU_mem   box_loss   cls_loss   dfl_loss  Instances       Size\n"
     ]
    },
    {
     "name": "stderr",
     "output_type": "stream",
     "text": [
      "    111/150      6.01G      1.167      1.468      1.208        275        640: 100%|██████████| 406/406 [00:36<00:00, 11.14it/s]\n",
      "                 Class     Images  Instances      Box(P          R      mAP50  mAP50-95): 100%|██████████| 41/41 [00:04<00:00,  9.40it/s]\n"
     ]
    },
    {
     "name": "stdout",
     "output_type": "stream",
     "text": [
      "                   all       2008      19885      0.459       0.27      0.263      0.187\n",
      "\n",
      "      Epoch    GPU_mem   box_loss   cls_loss   dfl_loss  Instances       Size\n"
     ]
    },
    {
     "name": "stderr",
     "output_type": "stream",
     "text": [
      "    112/150      5.75G      1.174      1.473      1.211        233        640: 100%|██████████| 406/406 [00:35<00:00, 11.30it/s]\n",
      "                 Class     Images  Instances      Box(P          R      mAP50  mAP50-95): 100%|██████████| 41/41 [00:04<00:00,  9.53it/s]\n"
     ]
    },
    {
     "name": "stdout",
     "output_type": "stream",
     "text": [
      "                   all       2008      19885      0.464       0.27      0.264      0.187\n",
      "\n",
      "      Epoch    GPU_mem   box_loss   cls_loss   dfl_loss  Instances       Size\n"
     ]
    },
    {
     "name": "stderr",
     "output_type": "stream",
     "text": [
      "    113/150      5.53G       1.17      1.466      1.213        204        640: 100%|██████████| 406/406 [00:35<00:00, 11.34it/s]\n",
      "                 Class     Images  Instances      Box(P          R      mAP50  mAP50-95): 100%|██████████| 41/41 [00:04<00:00,  9.53it/s]\n"
     ]
    },
    {
     "name": "stdout",
     "output_type": "stream",
     "text": [
      "                   all       2008      19885      0.464      0.271      0.265      0.188\n",
      "\n",
      "      Epoch    GPU_mem   box_loss   cls_loss   dfl_loss  Instances       Size\n"
     ]
    },
    {
     "name": "stderr",
     "output_type": "stream",
     "text": [
      "    114/150      5.99G      1.169       1.46      1.207        291        640: 100%|██████████| 406/406 [00:36<00:00, 11.18it/s]\n",
      "                 Class     Images  Instances      Box(P          R      mAP50  mAP50-95): 100%|██████████| 41/41 [00:04<00:00,  9.58it/s]\n"
     ]
    },
    {
     "name": "stdout",
     "output_type": "stream",
     "text": [
      "                   all       2008      19885      0.466      0.269      0.265      0.188\n",
      "\n",
      "      Epoch    GPU_mem   box_loss   cls_loss   dfl_loss  Instances       Size\n"
     ]
    },
    {
     "name": "stderr",
     "output_type": "stream",
     "text": [
      "    115/150      6.74G      1.169      1.457      1.206        210        640: 100%|██████████| 406/406 [00:35<00:00, 11.59it/s]\n",
      "                 Class     Images  Instances      Box(P          R      mAP50  mAP50-95): 100%|██████████| 41/41 [00:04<00:00,  9.55it/s]\n"
     ]
    },
    {
     "name": "stdout",
     "output_type": "stream",
     "text": [
      "                   all       2008      19885      0.466      0.268      0.265      0.188\n",
      "\n",
      "      Epoch    GPU_mem   box_loss   cls_loss   dfl_loss  Instances       Size\n"
     ]
    },
    {
     "name": "stderr",
     "output_type": "stream",
     "text": [
      "    116/150      5.44G      1.162       1.45      1.206        221        640: 100%|██████████| 406/406 [00:35<00:00, 11.29it/s]\n",
      "                 Class     Images  Instances      Box(P          R      mAP50  mAP50-95): 100%|██████████| 41/41 [00:04<00:00,  9.50it/s]\n"
     ]
    },
    {
     "name": "stdout",
     "output_type": "stream",
     "text": [
      "                   all       2008      19885      0.465      0.268      0.265      0.188\n",
      "\n",
      "      Epoch    GPU_mem   box_loss   cls_loss   dfl_loss  Instances       Size\n"
     ]
    },
    {
     "name": "stderr",
     "output_type": "stream",
     "text": [
      "    117/150       5.3G      1.166       1.45      1.207        253        640: 100%|██████████| 406/406 [00:35<00:00, 11.35it/s]\n",
      "                 Class     Images  Instances      Box(P          R      mAP50  mAP50-95): 100%|██████████| 41/41 [00:04<00:00,  9.28it/s]\n"
     ]
    },
    {
     "name": "stdout",
     "output_type": "stream",
     "text": [
      "                   all       2008      19885      0.469      0.265      0.265      0.188\n",
      "\n",
      "      Epoch    GPU_mem   box_loss   cls_loss   dfl_loss  Instances       Size\n"
     ]
    },
    {
     "name": "stderr",
     "output_type": "stream",
     "text": [
      "    118/150      5.24G      1.161      1.439      1.204        220        640: 100%|██████████| 406/406 [00:35<00:00, 11.46it/s]\n",
      "                 Class     Images  Instances      Box(P          R      mAP50  mAP50-95): 100%|██████████| 41/41 [00:04<00:00,  9.31it/s]\n"
     ]
    },
    {
     "name": "stdout",
     "output_type": "stream",
     "text": [
      "                   all       2008      19885      0.474      0.264      0.265      0.188\n",
      "\n",
      "      Epoch    GPU_mem   box_loss   cls_loss   dfl_loss  Instances       Size\n"
     ]
    },
    {
     "name": "stderr",
     "output_type": "stream",
     "text": [
      "    119/150      5.15G      1.165      1.442      1.204        211        640: 100%|██████████| 406/406 [00:35<00:00, 11.48it/s]\n",
      "                 Class     Images  Instances      Box(P          R      mAP50  mAP50-95): 100%|██████████| 41/41 [00:04<00:00,  9.57it/s]\n"
     ]
    },
    {
     "name": "stdout",
     "output_type": "stream",
     "text": [
      "                   all       2008      19885      0.479      0.261      0.265      0.188\n",
      "\n",
      "      Epoch    GPU_mem   box_loss   cls_loss   dfl_loss  Instances       Size\n"
     ]
    },
    {
     "name": "stderr",
     "output_type": "stream",
     "text": [
      "    120/150      6.18G      1.158      1.433      1.202        260        640: 100%|██████████| 406/406 [00:36<00:00, 11.26it/s]\n",
      "                 Class     Images  Instances      Box(P          R      mAP50  mAP50-95): 100%|██████████| 41/41 [00:04<00:00,  9.44it/s]\n"
     ]
    },
    {
     "name": "stdout",
     "output_type": "stream",
     "text": [
      "                   all       2008      19885       0.49      0.261      0.266      0.189\n",
      "\n",
      "      Epoch    GPU_mem   box_loss   cls_loss   dfl_loss  Instances       Size\n"
     ]
    },
    {
     "name": "stderr",
     "output_type": "stream",
     "text": [
      "    121/150      7.75G      1.156      1.436      1.203        251        640: 100%|██████████| 406/406 [00:35<00:00, 11.53it/s]\n",
      "                 Class     Images  Instances      Box(P          R      mAP50  mAP50-95): 100%|██████████| 41/41 [00:04<00:00,  9.51it/s]\n"
     ]
    },
    {
     "name": "stdout",
     "output_type": "stream",
     "text": [
      "                   all       2008      19885      0.492       0.26      0.266      0.189\n",
      "\n",
      "      Epoch    GPU_mem   box_loss   cls_loss   dfl_loss  Instances       Size\n"
     ]
    },
    {
     "name": "stderr",
     "output_type": "stream",
     "text": [
      "    122/150      6.16G      1.158      1.441      1.203        246        640: 100%|██████████| 406/406 [00:35<00:00, 11.32it/s]\n",
      "                 Class     Images  Instances      Box(P          R      mAP50  mAP50-95): 100%|██████████| 41/41 [00:04<00:00,  9.56it/s]\n"
     ]
    },
    {
     "name": "stdout",
     "output_type": "stream",
     "text": [
      "                   all       2008      19885      0.495       0.26      0.266      0.189\n",
      "\n",
      "      Epoch    GPU_mem   box_loss   cls_loss   dfl_loss  Instances       Size\n"
     ]
    },
    {
     "name": "stderr",
     "output_type": "stream",
     "text": [
      "    123/150      5.16G      1.155       1.43      1.202        315        640: 100%|██████████| 406/406 [00:35<00:00, 11.34it/s]\n",
      "                 Class     Images  Instances      Box(P          R      mAP50  mAP50-95): 100%|██████████| 41/41 [00:04<00:00,  9.46it/s]\n"
     ]
    },
    {
     "name": "stdout",
     "output_type": "stream",
     "text": [
      "                   all       2008      19885      0.484      0.262      0.267      0.189\n",
      "\n",
      "      Epoch    GPU_mem   box_loss   cls_loss   dfl_loss  Instances       Size\n"
     ]
    },
    {
     "name": "stderr",
     "output_type": "stream",
     "text": [
      "    124/150       5.3G      1.159      1.427        1.2        242        640: 100%|██████████| 406/406 [00:35<00:00, 11.42it/s]\n",
      "                 Class     Images  Instances      Box(P          R      mAP50  mAP50-95): 100%|██████████| 41/41 [00:04<00:00,  9.21it/s]\n"
     ]
    },
    {
     "name": "stdout",
     "output_type": "stream",
     "text": [
      "                   all       2008      19885      0.478      0.261      0.267       0.19\n",
      "\n",
      "      Epoch    GPU_mem   box_loss   cls_loss   dfl_loss  Instances       Size\n"
     ]
    },
    {
     "name": "stderr",
     "output_type": "stream",
     "text": [
      "    125/150      5.64G      1.155      1.424      1.199        346        640: 100%|██████████| 406/406 [00:36<00:00, 11.17it/s]\n",
      "                 Class     Images  Instances      Box(P          R      mAP50  mAP50-95): 100%|██████████| 41/41 [00:04<00:00,  9.52it/s]\n"
     ]
    },
    {
     "name": "stdout",
     "output_type": "stream",
     "text": [
      "                   all       2008      19885      0.483      0.261      0.267      0.189\n",
      "\n",
      "      Epoch    GPU_mem   box_loss   cls_loss   dfl_loss  Instances       Size\n"
     ]
    },
    {
     "name": "stderr",
     "output_type": "stream",
     "text": [
      "    126/150      5.69G       1.15      1.417      1.197        140        640: 100%|██████████| 406/406 [00:35<00:00, 11.39it/s]\n",
      "                 Class     Images  Instances      Box(P          R      mAP50  mAP50-95): 100%|██████████| 41/41 [00:04<00:00,  9.52it/s]\n"
     ]
    },
    {
     "name": "stdout",
     "output_type": "stream",
     "text": [
      "                   all       2008      19885      0.484       0.26      0.267      0.189\n",
      "\n",
      "      Epoch    GPU_mem   box_loss   cls_loss   dfl_loss  Instances       Size\n"
     ]
    },
    {
     "name": "stderr",
     "output_type": "stream",
     "text": [
      "    127/150      5.63G      1.146      1.405      1.197        338        640: 100%|██████████| 406/406 [00:35<00:00, 11.50it/s]\n",
      "                 Class     Images  Instances      Box(P          R      mAP50  mAP50-95): 100%|██████████| 41/41 [00:04<00:00,  9.41it/s]\n"
     ]
    },
    {
     "name": "stdout",
     "output_type": "stream",
     "text": [
      "                   all       2008      19885      0.487       0.26      0.267       0.19\n",
      "\n",
      "      Epoch    GPU_mem   box_loss   cls_loss   dfl_loss  Instances       Size\n"
     ]
    },
    {
     "name": "stderr",
     "output_type": "stream",
     "text": [
      "    128/150      5.34G      1.144      1.407      1.195        383        640: 100%|██████████| 406/406 [00:35<00:00, 11.34it/s]\n",
      "                 Class     Images  Instances      Box(P          R      mAP50  mAP50-95): 100%|██████████| 41/41 [00:04<00:00,  9.45it/s]\n"
     ]
    },
    {
     "name": "stdout",
     "output_type": "stream",
     "text": [
      "                   all       2008      19885      0.485      0.264      0.267       0.19\n",
      "\n",
      "      Epoch    GPU_mem   box_loss   cls_loss   dfl_loss  Instances       Size\n"
     ]
    },
    {
     "name": "stderr",
     "output_type": "stream",
     "text": [
      "    129/150      5.63G      1.147      1.404      1.194        299        640: 100%|██████████| 406/406 [00:35<00:00, 11.34it/s]\n",
      "                 Class     Images  Instances      Box(P          R      mAP50  mAP50-95): 100%|██████████| 41/41 [00:04<00:00,  9.55it/s]\n"
     ]
    },
    {
     "name": "stdout",
     "output_type": "stream",
     "text": [
      "                   all       2008      19885      0.483      0.265      0.266       0.19\n",
      "\n",
      "      Epoch    GPU_mem   box_loss   cls_loss   dfl_loss  Instances       Size\n"
     ]
    },
    {
     "name": "stderr",
     "output_type": "stream",
     "text": [
      "    130/150      6.27G      1.143      1.394      1.193        226        640: 100%|██████████| 406/406 [00:35<00:00, 11.46it/s]\n",
      "                 Class     Images  Instances      Box(P          R      mAP50  mAP50-95): 100%|██████████| 41/41 [00:04<00:00,  9.07it/s]\n"
     ]
    },
    {
     "name": "stdout",
     "output_type": "stream",
     "text": [
      "                   all       2008      19885      0.479      0.267      0.266       0.19\n",
      "\n",
      "      Epoch    GPU_mem   box_loss   cls_loss   dfl_loss  Instances       Size\n"
     ]
    },
    {
     "name": "stderr",
     "output_type": "stream",
     "text": [
      "    131/150      5.82G      1.145      1.403      1.195        260        640: 100%|██████████| 406/406 [00:34<00:00, 11.65it/s]\n",
      "                 Class     Images  Instances      Box(P          R      mAP50  mAP50-95): 100%|██████████| 41/41 [00:04<00:00,  9.46it/s]\n"
     ]
    },
    {
     "name": "stdout",
     "output_type": "stream",
     "text": [
      "                   all       2008      19885      0.474      0.268      0.266       0.19\n",
      "\n",
      "      Epoch    GPU_mem   box_loss   cls_loss   dfl_loss  Instances       Size\n"
     ]
    },
    {
     "name": "stderr",
     "output_type": "stream",
     "text": [
      "    132/150      6.09G      1.143      1.393      1.192        269        640: 100%|██████████| 406/406 [00:35<00:00, 11.45it/s]\n",
      "                 Class     Images  Instances      Box(P          R      mAP50  mAP50-95): 100%|██████████| 41/41 [00:04<00:00,  9.49it/s]\n"
     ]
    },
    {
     "name": "stdout",
     "output_type": "stream",
     "text": [
      "                   all       2008      19885      0.478      0.266      0.266       0.19\n",
      "\n",
      "      Epoch    GPU_mem   box_loss   cls_loss   dfl_loss  Instances       Size\n"
     ]
    },
    {
     "name": "stderr",
     "output_type": "stream",
     "text": [
      "    133/150      5.66G       1.14       1.39       1.19        289        640: 100%|██████████| 406/406 [00:35<00:00, 11.54it/s]\n",
      "                 Class     Images  Instances      Box(P          R      mAP50  mAP50-95): 100%|██████████| 41/41 [00:04<00:00,  9.36it/s]\n"
     ]
    },
    {
     "name": "stdout",
     "output_type": "stream",
     "text": [
      "                   all       2008      19885       0.48      0.262      0.266       0.19\n",
      "\n",
      "      Epoch    GPU_mem   box_loss   cls_loss   dfl_loss  Instances       Size\n"
     ]
    },
    {
     "name": "stderr",
     "output_type": "stream",
     "text": [
      "    134/150      5.75G      1.147      1.391       1.19        146        640: 100%|██████████| 406/406 [00:35<00:00, 11.52it/s]\n",
      "                 Class     Images  Instances      Box(P          R      mAP50  mAP50-95): 100%|██████████| 41/41 [00:04<00:00,  9.24it/s]\n"
     ]
    },
    {
     "name": "stdout",
     "output_type": "stream",
     "text": [
      "                   all       2008      19885      0.482      0.263      0.266       0.19\n",
      "\n",
      "      Epoch    GPU_mem   box_loss   cls_loss   dfl_loss  Instances       Size\n"
     ]
    },
    {
     "name": "stderr",
     "output_type": "stream",
     "text": [
      "    135/150       6.2G       1.14      1.387       1.19        245        640: 100%|██████████| 406/406 [00:35<00:00, 11.38it/s]\n",
      "                 Class     Images  Instances      Box(P          R      mAP50  mAP50-95): 100%|██████████| 41/41 [00:04<00:00,  9.38it/s]\n"
     ]
    },
    {
     "name": "stdout",
     "output_type": "stream",
     "text": [
      "                   all       2008      19885      0.482      0.263      0.266       0.19\n",
      "\n",
      "      Epoch    GPU_mem   box_loss   cls_loss   dfl_loss  Instances       Size\n"
     ]
    },
    {
     "name": "stderr",
     "output_type": "stream",
     "text": [
      "    136/150      5.48G      1.134      1.374      1.188        250        640: 100%|██████████| 406/406 [00:35<00:00, 11.37it/s]\n",
      "                 Class     Images  Instances      Box(P          R      mAP50  mAP50-95): 100%|██████████| 41/41 [00:04<00:00,  9.42it/s]\n"
     ]
    },
    {
     "name": "stdout",
     "output_type": "stream",
     "text": [
      "                   all       2008      19885      0.478      0.266      0.266       0.19\n",
      "\n",
      "      Epoch    GPU_mem   box_loss   cls_loss   dfl_loss  Instances       Size\n"
     ]
    },
    {
     "name": "stderr",
     "output_type": "stream",
     "text": [
      "    137/150      4.73G      1.138      1.368      1.188        251        640: 100%|██████████| 406/406 [00:35<00:00, 11.32it/s]\n",
      "                 Class     Images  Instances      Box(P          R      mAP50  mAP50-95): 100%|██████████| 41/41 [00:04<00:00,  9.58it/s]\n"
     ]
    },
    {
     "name": "stdout",
     "output_type": "stream",
     "text": [
      "                   all       2008      19885      0.481      0.265      0.267       0.19\n",
      "\n",
      "      Epoch    GPU_mem   box_loss   cls_loss   dfl_loss  Instances       Size\n"
     ]
    },
    {
     "name": "stderr",
     "output_type": "stream",
     "text": [
      "    138/150      6.22G      1.131      1.368      1.187        303        640: 100%|██████████| 406/406 [00:35<00:00, 11.56it/s]\n",
      "                 Class     Images  Instances      Box(P          R      mAP50  mAP50-95): 100%|██████████| 41/41 [00:04<00:00,  9.54it/s]\n"
     ]
    },
    {
     "name": "stdout",
     "output_type": "stream",
     "text": [
      "                   all       2008      19885      0.483      0.263      0.267      0.191\n",
      "\n",
      "      Epoch    GPU_mem   box_loss   cls_loss   dfl_loss  Instances       Size\n"
     ]
    },
    {
     "name": "stderr",
     "output_type": "stream",
     "text": [
      "    139/150      6.89G      1.132      1.365      1.183        370        640: 100%|██████████| 406/406 [00:36<00:00, 11.25it/s]\n",
      "                 Class     Images  Instances      Box(P          R      mAP50  mAP50-95): 100%|██████████| 41/41 [00:04<00:00,  9.39it/s]\n"
     ]
    },
    {
     "name": "stdout",
     "output_type": "stream",
     "text": [
      "                   all       2008      19885      0.486      0.264      0.268      0.191\n",
      "\n",
      "      Epoch    GPU_mem   box_loss   cls_loss   dfl_loss  Instances       Size\n"
     ]
    },
    {
     "name": "stderr",
     "output_type": "stream",
     "text": [
      "    140/150      5.87G      1.132      1.365      1.185        249        640: 100%|██████████| 406/406 [00:36<00:00, 11.25it/s]\n",
      "                 Class     Images  Instances      Box(P          R      mAP50  mAP50-95): 100%|██████████| 41/41 [00:04<00:00,  9.46it/s]\n"
     ]
    },
    {
     "name": "stdout",
     "output_type": "stream",
     "text": [
      "                   all       2008      19885      0.488      0.263      0.268      0.191\n",
      "Closing dataloader mosaic\n",
      "\n",
      "      Epoch    GPU_mem   box_loss   cls_loss   dfl_loss  Instances       Size\n"
     ]
    },
    {
     "name": "stderr",
     "output_type": "stream",
     "text": [
      "    141/150      4.92G      1.046      1.291      1.145        140        640: 100%|██████████| 406/406 [00:36<00:00, 11.08it/s]\n",
      "                 Class     Images  Instances      Box(P          R      mAP50  mAP50-95): 100%|██████████| 41/41 [00:04<00:00,  9.31it/s]\n"
     ]
    },
    {
     "name": "stdout",
     "output_type": "stream",
     "text": [
      "                   all       2008      19885      0.483      0.267      0.269      0.192\n",
      "\n",
      "      Epoch    GPU_mem   box_loss   cls_loss   dfl_loss  Instances       Size\n"
     ]
    },
    {
     "name": "stderr",
     "output_type": "stream",
     "text": [
      "    142/150      5.09G      1.033      1.259      1.137        160        640: 100%|██████████| 406/406 [00:35<00:00, 11.54it/s]\n",
      "                 Class     Images  Instances      Box(P          R      mAP50  mAP50-95): 100%|██████████| 41/41 [00:04<00:00,  9.13it/s]\n"
     ]
    },
    {
     "name": "stdout",
     "output_type": "stream",
     "text": [
      "                   all       2008      19885      0.485      0.265       0.27      0.192\n",
      "\n",
      "      Epoch    GPU_mem   box_loss   cls_loss   dfl_loss  Instances       Size\n"
     ]
    },
    {
     "name": "stderr",
     "output_type": "stream",
     "text": [
      "    143/150      4.75G      1.033      1.244      1.135        150        640: 100%|██████████| 406/406 [00:34<00:00, 11.64it/s]\n",
      "                 Class     Images  Instances      Box(P          R      mAP50  mAP50-95): 100%|██████████| 41/41 [00:04<00:00,  9.48it/s]\n"
     ]
    },
    {
     "name": "stdout",
     "output_type": "stream",
     "text": [
      "                   all       2008      19885      0.487      0.265       0.27      0.192\n",
      "\n",
      "      Epoch    GPU_mem   box_loss   cls_loss   dfl_loss  Instances       Size\n"
     ]
    },
    {
     "name": "stderr",
     "output_type": "stream",
     "text": [
      "    144/150      5.44G      1.033      1.239      1.135        118        640: 100%|██████████| 406/406 [00:34<00:00, 11.68it/s]\n",
      "                 Class     Images  Instances      Box(P          R      mAP50  mAP50-95): 100%|██████████| 41/41 [00:04<00:00,  9.53it/s]\n"
     ]
    },
    {
     "name": "stdout",
     "output_type": "stream",
     "text": [
      "                   all       2008      19885      0.488      0.263       0.27      0.192\n",
      "\n",
      "      Epoch    GPU_mem   box_loss   cls_loss   dfl_loss  Instances       Size\n"
     ]
    },
    {
     "name": "stderr",
     "output_type": "stream",
     "text": [
      "    145/150      5.13G      1.024      1.226       1.13        205        640: 100%|██████████| 406/406 [00:35<00:00, 11.46it/s]\n",
      "                 Class     Images  Instances      Box(P          R      mAP50  mAP50-95): 100%|██████████| 41/41 [00:04<00:00,  9.50it/s]\n"
     ]
    },
    {
     "name": "stdout",
     "output_type": "stream",
     "text": [
      "                   all       2008      19885      0.489      0.263      0.269      0.192\n",
      "\n",
      "      Epoch    GPU_mem   box_loss   cls_loss   dfl_loss  Instances       Size\n"
     ]
    },
    {
     "name": "stderr",
     "output_type": "stream",
     "text": [
      "    146/150      4.54G      1.027      1.225      1.132        171        640: 100%|██████████| 406/406 [00:35<00:00, 11.51it/s]\n",
      "                 Class     Images  Instances      Box(P          R      mAP50  mAP50-95): 100%|██████████| 41/41 [00:04<00:00,  9.44it/s]\n"
     ]
    },
    {
     "name": "stdout",
     "output_type": "stream",
     "text": [
      "                   all       2008      19885      0.489      0.262      0.269      0.192\n",
      "\n",
      "      Epoch    GPU_mem   box_loss   cls_loss   dfl_loss  Instances       Size\n"
     ]
    },
    {
     "name": "stderr",
     "output_type": "stream",
     "text": [
      "    147/150      5.86G      1.022      1.225      1.129        164        640: 100%|██████████| 406/406 [00:35<00:00, 11.56it/s]\n",
      "                 Class     Images  Instances      Box(P          R      mAP50  mAP50-95): 100%|██████████| 41/41 [00:04<00:00,  9.49it/s]\n"
     ]
    },
    {
     "name": "stdout",
     "output_type": "stream",
     "text": [
      "                   all       2008      19885      0.467      0.266      0.269      0.192\n",
      "\n",
      "      Epoch    GPU_mem   box_loss   cls_loss   dfl_loss  Instances       Size\n"
     ]
    },
    {
     "name": "stderr",
     "output_type": "stream",
     "text": [
      "    148/150      5.28G      1.019      1.215      1.127        166        640: 100%|██████████| 406/406 [00:34<00:00, 11.70it/s]\n",
      "                 Class     Images  Instances      Box(P          R      mAP50  mAP50-95): 100%|██████████| 41/41 [00:04<00:00,  9.60it/s]\n"
     ]
    },
    {
     "name": "stdout",
     "output_type": "stream",
     "text": [
      "                   all       2008      19885      0.475      0.263      0.269      0.192\n",
      "\n",
      "      Epoch    GPU_mem   box_loss   cls_loss   dfl_loss  Instances       Size\n"
     ]
    },
    {
     "name": "stderr",
     "output_type": "stream",
     "text": [
      "    149/150      4.97G       1.02      1.212      1.127        142        640: 100%|██████████| 406/406 [00:34<00:00, 11.64it/s]\n",
      "                 Class     Images  Instances      Box(P          R      mAP50  mAP50-95): 100%|██████████| 41/41 [00:04<00:00,  9.60it/s]\n"
     ]
    },
    {
     "name": "stdout",
     "output_type": "stream",
     "text": [
      "                   all       2008      19885      0.455      0.266      0.269      0.192\n",
      "\n",
      "      Epoch    GPU_mem   box_loss   cls_loss   dfl_loss  Instances       Size\n"
     ]
    },
    {
     "name": "stderr",
     "output_type": "stream",
     "text": [
      "    150/150      5.11G      1.015      1.203      1.126        156        640: 100%|██████████| 406/406 [00:34<00:00, 11.62it/s]\n",
      "                 Class     Images  Instances      Box(P          R      mAP50  mAP50-95): 100%|██████████| 41/41 [00:04<00:00,  9.38it/s]\n"
     ]
    },
    {
     "name": "stdout",
     "output_type": "stream",
     "text": [
      "                   all       2008      19885      0.456      0.266      0.269      0.192\n",
      "\n",
      "150 epochs completed in 1.715 hours.\n",
      "Optimizer stripped from runs/detect/train2/weights/last.pt, 6.9MB\n",
      "Optimizer stripped from runs/detect/train2/weights/best.pt, 6.9MB\n",
      "\n",
      "Validating runs/detect/train2/weights/best.pt...\n",
      "Ultralytics YOLOv8.1.37 🚀 Python-3.11.6 torch-2.1.2 CUDA:0 (NVIDIA L40S, 45589MiB)\n",
      "Model summary (fused): 168 layers, 3340724 parameters, 0 gradients, 9.6 GFLOPs\n"
     ]
    },
    {
     "name": "stderr",
     "output_type": "stream",
     "text": [
      "                 Class     Images  Instances      Box(P          R      mAP50  mAP50-95): 100%|██████████| 41/41 [00:05<00:00,  7.35it/s]\n"
     ]
    },
    {
     "name": "stdout",
     "output_type": "stream",
     "text": [
      "                   all       2008      19885      0.486      0.265       0.27      0.192\n",
      "             Paper Cup       2008        420      0.598      0.604      0.604      0.453\n",
      "Snack or Candy Bag or Wrapper       2008       1181      0.463      0.426       0.43      0.287\n",
      "                  Wipe       2008          5          1          0          0          0\n",
      "             Wax Paper       2008         19          0          0     0.0362     0.0298\n",
      "          Latex Gloves       2008         44       0.63      0.523      0.556      0.413\n",
      "  Juice or Other Pouch       2008          8          1          0    0.00833     0.0028\n",
      "Padded Envelope (mixed material))       2008          3          0          0          0          0\n",
      "          Blister Pack       2008          2          1          0          0          0\n",
      "      Pens and Pencils       2008         16          1          0     0.0126    0.00973\n",
      "Miscellaneous Office Supplies       2008          3          1          0     0.0569    0.00569\n",
      "Facemask and Other PPE       2008         14      0.367     0.0714      0.151      0.075\n",
      "   Shelf Stable Carton       2008        117      0.452      0.496      0.462      0.348\n",
      "        Soiled Plastic       2008        139      0.411       0.41      0.366      0.302\n",
      "          Soiled Metal       2008          9      0.171      0.222      0.177     0.0506\n",
      "          Soiled Glass       2008          1          1          0          0          0\n",
      "              Ceramics       2008         11      0.411      0.182      0.208      0.119\n",
      "        Unclassifiable       2008        448      0.506     0.0252     0.0686     0.0437\n",
      "            Filled Bag       2008        336      0.569      0.476      0.505      0.387\n",
      "            Coffee Pod       2008          5          1          0     0.0748     0.0673\n",
      "           Other Trash       2008         18      0.221     0.0556      0.073     0.0709\n",
      "Flexible container lid / seal       2008         77      0.606      0.221      0.244      0.191\n",
      "   Snack Food Canister       2008          1          1          0          0          0\n",
      "      Hard Cover Books       2008          2          0          0          0          0\n",
      "Compostable Fiber Ware       2008        219      0.543       0.68       0.66      0.559\n",
      "   Compostable Cutlery       2008         42      0.566      0.405      0.397      0.329\n",
      "Compostable Plastic Cups       2008         13          0          0      0.102     0.0686\n",
      "Compostable Paper Cups       2008         11      0.403      0.364      0.483      0.375\n",
      "Paper Towel/Napkins/Tissue       2008       4753      0.558       0.59      0.581      0.362\n",
      "Wooden Coffee Stirrer or Chopstick       2008        116      0.509      0.328      0.335      0.224\n",
      "  Soiled Cardboard Box       2008         18      0.391      0.444      0.413      0.329\n",
      "Compostable Plastic Lid       2008         48      0.643      0.333      0.367      0.287\n",
      "     Food Soiled Paper       2008        554      0.416      0.195      0.233      0.142\n",
      "Other compostable material       2008         13      0.305     0.0769     0.0835     0.0595\n",
      "Sandwich paper wrapper       2008        115      0.772      0.739      0.772      0.638\n",
      "     Plastic strapping       2008          8          0          0     0.0041    0.00328\n",
      "                Cables       2008         12      0.235      0.417      0.238      0.161\n",
      "Toner and Ink Cartridges       2008          1          0          0          0          0\n",
      "Miscellaneous Electronics       2008          8      0.693      0.568      0.633      0.435\n",
      "         Meat and Fish       2008          2          1          0          0          0\n",
      "      Bones and Shells       2008         17          1          0     0.0117    0.00394\n",
      "    Fruits And Veggies       2008        786      0.552      0.424      0.459      0.275\n",
      "Other Food or Mixed Food       2008        352      0.408      0.152      0.192     0.0984\n",
      "                Breads       2008         10      0.329        0.2       0.15      0.121\n",
      "                Grains       2008         50      0.446      0.226      0.261      0.124\n",
      "              Tea Bags       2008         81      0.289     0.0988     0.0981     0.0498\n",
      "        Coffee Grounds       2008         35      0.609      0.514      0.519      0.366\n",
      "             Egg Shell       2008         68      0.527      0.132      0.163      0.091\n",
      "         Glass Bottles       2008         72      0.503        0.5      0.494      0.286\n",
      "            Glass Jars       2008          8          0          0     0.0197     0.0169\n",
      "          Broken Glass       2008          4          0          0     0.0203    0.00625\n",
      "     Other Clean Glass       2008          2          1          0          0          0\n",
      "Drinking glass or glass ovenware       2008         17      0.577      0.235      0.349      0.224\n",
      "             Metal Can       2008       1178      0.799       0.83      0.873      0.694\n",
      "         Aluminum Foil       2008         78      0.632      0.572      0.545      0.367\n",
      "Aluminum Catering Tray       2008          8          0          0     0.0667     0.0329\n",
      "     Other Clean Metal       2008         66      0.164     0.0419      0.034     0.0257\n",
      "           Aerosol Can       2008          1          1          0          0          0\n",
      "Metallic Bottle Cap or Lid       2008         91      0.604      0.335       0.37      0.221\n",
      "               Liquids       2008          9      0.323      0.111       0.13     0.0315\n",
      "Leaves, Flowers, Grass Clippings       2008        116      0.311      0.181       0.17     0.0783\n",
      "          Office Paper       2008       1785      0.503      0.404      0.419      0.269\n",
      "        Shredded Paper       2008         30      0.728        0.5      0.564      0.479\n",
      "       Clean Cardboard       2008        573      0.405      0.532      0.437      0.316\n",
      "Refrigerated Beverage Carton       2008         11      0.264      0.327      0.163     0.0861\n",
      "   Magazines Newspaper       2008        129      0.498      0.457      0.392      0.264\n",
      "Receipts and Thermal Paper       2008        124      0.401      0.339      0.277      0.207\n",
      "       Empty Paper Bag       2008        410      0.438      0.598      0.509      0.389\n",
      "Cardboard Coffee Cup Sleeve       2008         69      0.382      0.362      0.386      0.291\n",
      "     Clean Paper Plate       2008         55      0.563      0.564       0.61      0.552\n",
      "     Colored Memo Note       2008         64      0.324      0.219      0.229      0.151\n",
      "         Office Folder       2008         33          0          0     0.0536     0.0223\n",
      "            Paper Roll       2008         43      0.656      0.222      0.293      0.163\n",
      "        Wrapping Paper       2008         90      0.381      0.341      0.292      0.193\n",
      "     Other Clean Paper       2008       1644       0.33      0.194      0.193      0.127\n",
      "  Plastic Drink Bottle       2008        423      0.678      0.647      0.701      0.503\n",
      "Plastic Milk Jug or Personal Care Bottle       2008         39      0.404      0.436      0.333      0.253\n",
      "     Empty Plastic Bag       2008        599      0.428      0.372      0.338      0.211\n",
      "Yogurt Tub or Container       2008         78      0.445      0.359      0.347      0.265\n",
      "Expanded Polystyrene (styrofoam)       2008         42      0.451      0.357      0.294      0.161\n",
      "Other Clean Plastics (rigid)       2008        244      0.364       0.18      0.166      0.117\n",
      "                Straws       2008        282      0.597      0.351      0.395      0.274\n",
      "Clear Clamshell Container       2008         12      0.251       0.25      0.241      0.216\n",
      "       Plastic Cutlery       2008         95      0.408      0.179      0.178      0.128\n",
      "Plastic Lid except black       2008        546      0.475      0.436      0.427       0.31\n",
      "Plastic Coffee Stirrer       2008          1          0          0          0          0\n",
      "     Clear Plastic Cup       2008        282      0.567      0.578      0.632      0.487\n",
      "   Colored Plastic Cup       2008          2          1          0          0          0\n",
      "         Black Plastic       2008        140      0.489        0.6       0.56      0.421\n",
      "          Plastic Wrap       2008        140      0.441     0.0643     0.0967     0.0657\n",
      "           Bubble Wrap       2008         22      0.461      0.318      0.282      0.253\n",
      "  Textiles and Clothes       2008         17      0.385      0.529      0.497      0.381\n",
      "Speed: 0.1ms preprocess, 0.3ms inference, 0.0ms loss, 0.5ms postprocess per image\n",
      "Results saved to \u001b[1mruns/detect/train2\u001b[0m\n"
     ]
    }
   ],
   "source": [
    "# https://docs.ultralytics.com/modes/train/\n",
    "# Mix-up vs copy-paste: https://sh-tsang.medium.com/brief-review-simple-copy-paste-is-a-strong-data-augmentation-method-for-instance-segmentation-81297fb6f9ca\n",
    "# Auto-augmentation: https://sebastianraschka.com/blog/2023/data-augmentation-pytorch.html\n",
    "# external augmentation packages: https://medium.com/@k.sunman91/data-augmentation-on-ultralytics-for-training-yolov5-yolov8-97a8dab31fef\n",
    "from ultralytics import YOLO\n",
    "# model = YOLO('yolov8n.yaml')\n",
    "model = YOLO('yolov8n.pt')\n",
    "# model = YOLO('yolov8n.yaml').load('yolov8n.pt') # build from YAML and transfer weights\n",
    "results = model.train(\n",
    "    data='dataset.yaml', # custom dataset\n",
    "    epochs=150, # default 100 ~ higher epoch was worse went to like 38\n",
    "    imgsz=640, # default 640 ~ imgsz didn't change the end result\n",
    "    batch=25, # default 16,~8 was bad\n",
    "    patience=9, # default 100\n",
    "    dropout=0.0, # default 0.0 ~ anything on above 0.1 was bad,\n",
    "    label_smoothing=0.5, # default 0.0\n",
    ")"
   ]
  },
  {
   "cell_type": "code",
   "execution_count": 38,
   "id": "5c7192a8-3e4c-4fa4-ba54-adf2d92ef008",
   "metadata": {},
   "outputs": [
    {
     "name": "stdout",
     "output_type": "stream",
     "text": [
      "\n",
      "image 1/1 /projectnb/spareit/jasonoh/images/Compost_000eeeeb-0444-4f74-91e3-d6329c6e9c85_ec3a2daf-29b4-4804-9216-e6a71b07a335_35addbdb-52aa-42ac-a9c7-26ed974484f7.jpeg: 1280x960 2 Snack or Candy Bag or Wrappers, 2 Compostable Fiber Wares, 6.8ms\n",
      "Speed: 8.2ms preprocess, 6.8ms inference, 1.0ms postprocess per image at shape (1, 3, 1280, 960)\n"
     ]
    }
   ],
   "source": [
    "results = model(\"./images/Compost_000eeeeb-0444-4f74-91e3-d6329c6e9c85_ec3a2daf-29b4-4804-9216-e6a71b07a335_35addbdb-52aa-42ac-a9c7-26ed974484f7.jpeg\")"
   ]
  },
  {
   "cell_type": "code",
   "execution_count": null,
   "id": "9430e019-e912-41fc-8efb-e1c6f9d8873b",
   "metadata": {},
   "outputs": [],
   "source": [
    "# Export the model to ONNX format\n",
    "success = model.export(format='onnx')"
   ]
  },
  {
   "cell_type": "code",
   "execution_count": 1,
   "id": "8948b386-1371-49bc-b0b6-d0a73d631a13",
   "metadata": {},
   "outputs": [
    {
     "name": "stdout",
     "output_type": "stream",
     "text": [
      "Deleted directory: ./runs/detect/.ipynb_checkpoints\n",
      "Deleted directory: ./runs/detect/train\n",
      "Deleted directory: ./runs/detect/small-sample-train\n",
      "Deleted directory: ./runs/detect/train2\n",
      "Cleanup complete.\n"
     ]
    }
   ],
   "source": [
    "import os\n",
    "import shutil\n",
    "\n",
    "def delete_except_sample1(directory):\n",
    "    # Get all items in the directory\n",
    "    items = os.listdir(directory)\n",
    "    \n",
    "    # Iterate through items and remove them if they are not 'sample 1'\n",
    "    for item in items:\n",
    "        item_path = os.path.join(directory, item)\n",
    "        if item != \"train7\":  # Check if the current item is not 'sample 1'\n",
    "            if os.path.isfile(item_path) or os.path.islink(item_path):\n",
    "                os.remove(item_path)  # Remove the file or link\n",
    "                print(f\"Deleted file: {item_path}\")\n",
    "            elif os.path.isdir(item_path):\n",
    "                shutil.rmtree(item_path)  # Remove the directory\n",
    "                print(f\"Deleted directory: {item_path}\")\n",
    "\n",
    "# Specify the path to the directory\n",
    "directory_path = './runs/detect/'\n",
    "delete_except_sample1(directory_path)\n",
    "print(\"Cleanup complete.\")"
   ]
  }
 ],
 "metadata": {
  "kernelspec": {
   "display_name": "Python 3 (ipykernel)",
   "language": "python",
   "name": "python3"
  },
  "language_info": {
   "codemirror_mode": {
    "name": "ipython",
    "version": 3
   },
   "file_extension": ".py",
   "mimetype": "text/x-python",
   "name": "python",
   "nbconvert_exporter": "python",
   "pygments_lexer": "ipython3",
   "version": "3.11.6"
  }
 },
 "nbformat": 4,
 "nbformat_minor": 5
}

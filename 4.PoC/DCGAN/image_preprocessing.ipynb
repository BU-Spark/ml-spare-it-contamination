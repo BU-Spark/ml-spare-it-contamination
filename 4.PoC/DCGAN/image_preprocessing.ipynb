{
 "cells": [
  {
   "cell_type": "code",
   "execution_count": null,
   "id": "5ecdc13f-31d7-4c32-bf5a-0777499fce07",
   "metadata": {},
   "outputs": [],
   "source": [
    "import os\n",
    "from PIL import Image\n",
    "import numpy as np\n",
    "import matplotlib.pyplot as plt"
   ]
  },
  {
   "cell_type": "code",
   "execution_count": null,
   "id": "9fe46d99-5197-4140-8746-8e4e099658b5",
   "metadata": {},
   "outputs": [],
   "source": [
    "# Source Directory\n",
    "image_folder = '../../Spare-it-Final-Delivery/images'\n",
    "# Processed Images Directory\n",
    "processed_folder = './processed_images_cropped'\n",
    "\n",
    "# Ensure the output folder exists\n",
    "os.makedirs(processed_folder, exist_ok=True)\n",
    "\n",
    "# Target size for the final images\n",
    "target_size = (64, 64)  "
   ]
  },
  {
   "cell_type": "code",
   "execution_count": null,
   "id": "8a996712-44e6-43b2-8410-2f69456ca88d",
   "metadata": {},
   "outputs": [],
   "source": [
    "def preprocess_images(folder_path, output_folder, target_size):\n",
    "    \"\"\"\n",
    "    Processes images by resizing, cropping, and normalizing them.\n",
    "    \n",
    "    Args:\n",
    "        folder_path (str): The directory containing the original images.\n",
    "        output_folder (str): The directory where processed images will be saved.\n",
    "        target_size (tuple): The size (width, height) of the cropped images.\n",
    "    \"\"\"\n",
    "    for img_filename in os.listdir(folder_path):\n",
    "        if img_filename.lower().endswith(('.png', '.jpg', '.jpeg')):\n",
    "            img_path = os.path.join(folder_path, img_filename)\n",
    "            with Image.open(img_path) as img:\n",
    "                # Resize image to larger dimensions for consistent cropping\n",
    "                img = img.resize((256, 256), Image.LANCZOS)\n",
    "\n",
    "                # Crop the center of the image\n",
    "                width, height = img.size\n",
    "                new_width, new_height = target_size\n",
    "                left = (width - new_width)/2\n",
    "                top = (height - new_height)/2\n",
    "                right = (width + new_width)/2\n",
    "                bottom = (height + new_height)/2\n",
    "                img = img.crop((left, top, right, bottom))\n",
    "\n",
    "                # Convert image to numpy array and normalize to [-1, 1]\n",
    "                img_array = np.asarray(img)\n",
    "                img_array = (img_array - 127.5) / 127.5\n",
    "                \n",
    "                processed_img = Image.fromarray((255 * (img_array + 1) / 2).astype(np.uint8))\n",
    "                output_path = os.path.join(output_folder, img_filename)\n",
    "                processed_img.save(output_path)\n",
    "\n",
    "    print(f\"Processed images are saved in {output_folder}\")\n",
    "\n",
    "# Process all images\n",
    "preprocess_images(image_folder, processed_folder, target_size)"
   ]
  },
  {
   "cell_type": "code",
   "execution_count": null,
   "id": "62ee3430-7b87-4646-beb5-4dea968b422e",
   "metadata": {},
   "outputs": [],
   "source": [
    "def display_sample_images(folder_path, num_images=5):\n",
    "    \"\"\"\n",
    "    Displays a sample of processed images.\n",
    "    \n",
    "    Args:\n",
    "        folder_path (str): Directory containing images to display.\n",
    "        num_images (int): Number of images to display.\n",
    "    \"\"\"\n",
    "    sample_images = os.listdir(folder_path)[:num_images]\n",
    "    fig, axes = plt.subplots(1, num_images, figsize=(10, 2))\n",
    "    for ax, image in zip(axes, sample_images):\n",
    "        img_path = os.path.join(folder_path, image)\n",
    "        img = Image.open(img_path)\n",
    "        ax.imshow(img)\n",
    "        ax.axis('off')\n",
    "    plt.show()"
   ]
  }
 ],
 "metadata": {
  "kernelspec": {
   "display_name": "Python 3 (ipykernel)",
   "language": "python",
   "name": "python3"
  },
  "language_info": {
   "codemirror_mode": {
    "name": "ipython",
    "version": 3
   },
   "file_extension": ".py",
   "mimetype": "text/x-python",
   "name": "python",
   "nbconvert_exporter": "python",
   "pygments_lexer": "ipython3",
   "version": "3.11.6"
  }
 },
 "nbformat": 4,
 "nbformat_minor": 5
}

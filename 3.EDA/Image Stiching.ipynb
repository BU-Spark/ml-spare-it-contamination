{
 "cells": [
  {
   "cell_type": "markdown",
   "id": "c58744a0-1239-4740-af1a-31bb90bca744",
   "metadata": {},
   "source": [
    "# Spare-It EDA: Synthetic Image Stitching"
   ]
  },
  {
   "cell_type": "code",
   "execution_count": 2,
   "id": "121d50f9-b6f3-4c54-935d-eab526c5221c",
   "metadata": {},
   "outputs": [],
   "source": [
    "import os\n",
    "import json\n",
    "import random\n",
    "import pandas as pd\n",
    "import numpy as np\n",
    "import matplotlib.pyplot as plt\n",
    "import torch\n",
    "from pycocotools.coco import COCO"
   ]
  },
  {
   "cell_type": "code",
   "execution_count": 15,
   "id": "1c423093-3df6-46b3-9598-5764a1ffadd4",
   "metadata": {},
   "outputs": [
    {
     "name": "stdout",
     "output_type": "stream",
     "text": [
      "loading annotations into memory...\n",
      "Done (t=0.00s)\n",
      "creating index...\n",
      "index created!\n"
     ]
    },
    {
     "data": {
      "text/plain": [
       "[{'supercategory': '', 'id': 1, 'name': 'Paper Cup'},\n",
       " {'supercategory': '', 'id': 2, 'name': 'Snack or Candy Bag or Wrapper '},\n",
       " {'supercategory': '', 'id': 4, 'name': 'Wipe'},\n",
       " {'supercategory': '', 'id': 5, 'name': 'Wax Paper'},\n",
       " {'supercategory': '', 'id': 6, 'name': 'Latex Gloves'},\n",
       " {'supercategory': '', 'id': 7, 'name': 'Juice or Other Pouch'},\n",
       " {'supercategory': '', 'id': 8, 'name': 'Diaper'},\n",
       " {'supercategory': '', 'id': 9, 'name': 'Padded Envelope (mixed materials)'},\n",
       " {'supercategory': '', 'id': 10, 'name': 'Blister Pack'},\n",
       " {'supercategory': '', 'id': 36, 'name': 'Plastic strapping'},\n",
       " {'supercategory': '', 'id': 11, 'name': 'Pens and Pencils'},\n",
       " {'supercategory': '', 'id': 14, 'name': 'Miscellaneous Office Supplies'},\n",
       " {'supercategory': '', 'id': 15, 'name': 'Facemask and Other PPE'},\n",
       " {'supercategory': '', 'id': 16, 'name': 'Shelf Stable Carton'},\n",
       " {'supercategory': '', 'id': 17, 'name': 'Soiled Plastic'},\n",
       " {'supercategory': '', 'id': 18, 'name': 'Soiled Metal'},\n",
       " {'supercategory': '', 'id': 19, 'name': 'Soiled Glass'},\n",
       " {'supercategory': '', 'id': 115, 'name': 'Ceramics'},\n",
       " {'supercategory': '', 'id': 114, 'name': 'Unclassifiable'},\n",
       " {'supercategory': '', 'id': 116, 'name': 'Filled Bag'},\n",
       " {'supercategory': '', 'id': 117, 'name': 'Coffee Pod'},\n",
       " {'supercategory': '', 'id': 122, 'name': 'Other Trash'},\n",
       " {'supercategory': '', 'id': 123, 'name': 'Flexible container lid / seal'},\n",
       " {'supercategory': '', 'id': 124, 'name': 'Snack Food Canister'},\n",
       " {'supercategory': '', 'id': 127, 'name': 'Hard Cover Books'},\n",
       " {'supercategory': '', 'id': 20, 'name': 'Compostable Fiber Ware'},\n",
       " {'supercategory': '', 'id': 21, 'name': 'Compostable Cutlery'},\n",
       " {'supercategory': '', 'id': 22, 'name': 'Compostable Plastic Cups'},\n",
       " {'supercategory': '', 'id': 23, 'name': 'Compostable Paper Cups'},\n",
       " {'supercategory': '',\n",
       "  'id': 24,\n",
       "  'name': 'Paper Towel/Napkins/Tissue/Tissue Paper'},\n",
       " {'supercategory': '',\n",
       "  'id': 25,\n",
       "  'name': 'Wooden Coffee Stirrer or Utensil or Chopstick'},\n",
       " {'supercategory': '', 'id': 26, 'name': 'Soiled Cardboard Box'},\n",
       " {'supercategory': '', 'id': 27, 'name': 'Compostable Plastic Lid'},\n",
       " {'supercategory': '', 'id': 30, 'name': 'Food Soiled Paper'},\n",
       " {'supercategory': '', 'id': 125, 'name': 'Other compostable material'},\n",
       " {'supercategory': '', 'id': 126, 'name': 'Sandwich paper wrapper'},\n",
       " {'supercategory': '', 'id': 38, 'name': 'Batteries'},\n",
       " {'supercategory': '', 'id': 40, 'name': 'Cables'},\n",
       " {'supercategory': '', 'id': 43, 'name': 'Computers'},\n",
       " {'supercategory': '', 'id': 44, 'name': 'Monitors'},\n",
       " {'supercategory': '', 'id': 45, 'name': 'Toner and Ink Cartridges'},\n",
       " {'supercategory': '', 'id': 46, 'name': 'Miscellaneous Electronics '},\n",
       " {'supercategory': '', 'id': 47, 'name': 'LED Lightbulb'},\n",
       " {'supercategory': '', 'id': 48, 'name': 'Meat and Fish'},\n",
       " {'supercategory': '', 'id': 49, 'name': 'Bones and Shells'},\n",
       " {'supercategory': '', 'id': 50, 'name': 'Cheese and Other Fats'},\n",
       " {'supercategory': '', 'id': 51, 'name': 'Fruits And Veggies'},\n",
       " {'supercategory': '', 'id': 52, 'name': 'Other Food or Mixed Food'},\n",
       " {'supercategory': '', 'id': 53, 'name': 'Breads'},\n",
       " {'supercategory': '', 'id': 54, 'name': 'Grains'},\n",
       " {'supercategory': '', 'id': 55, 'name': 'Tea Bags'},\n",
       " {'supercategory': '', 'id': 56, 'name': 'Coffee Grounds & Filters'},\n",
       " {'supercategory': '', 'id': 57, 'name': 'Egg Shell'},\n",
       " {'supercategory': '', 'id': 58, 'name': 'Glass Bottles'},\n",
       " {'supercategory': '', 'id': 59, 'name': 'Glass Jars'},\n",
       " {'supercategory': '', 'id': 60, 'name': 'Broken Glass'},\n",
       " {'supercategory': '', 'id': 120, 'name': 'Other Clean Glass'},\n",
       " {'supercategory': '', 'id': 121, 'name': 'Drinking glass or glass ovenware'},\n",
       " {'supercategory': '', 'id': 63, 'name': 'Metal Can'},\n",
       " {'supercategory': '', 'id': 65, 'name': 'Aluminum Foil'},\n",
       " {'supercategory': '', 'id': 66, 'name': 'Aluminum Catering Tray'},\n",
       " {'supercategory': '', 'id': 67, 'name': 'Other Clean Metal'},\n",
       " {'supercategory': '', 'id': 68, 'name': 'Aerosol Can'},\n",
       " {'supercategory': '', 'id': 69, 'name': 'Metallic Bottle Cap or Lid'},\n",
       " {'supercategory': '', 'id': 70, 'name': 'Metal Strapping'},\n",
       " {'supercategory': '', 'id': 72, 'name': 'Liquids'},\n",
       " {'supercategory': '', 'id': 73, 'name': 'Leaves, Flowers, Grass Clippings'},\n",
       " {'supercategory': '', 'id': 76, 'name': 'Office Paper'},\n",
       " {'supercategory': '', 'id': 77, 'name': 'Shredded Paper'},\n",
       " {'supercategory': '', 'id': 78, 'name': 'Clean Cardboard'},\n",
       " {'supercategory': '', 'id': 79, 'name': 'Refrigerated Beverage Carton'},\n",
       " {'supercategory': '', 'id': 80, 'name': 'Magazines Newspaper'},\n",
       " {'supercategory': '', 'id': 82, 'name': 'Receipts and Thermal Paper'},\n",
       " {'supercategory': '', 'id': 83, 'name': 'Empty Paper Bag'},\n",
       " {'supercategory': '', 'id': 84, 'name': 'Cardboard Coffee Cup Sleeve'},\n",
       " {'supercategory': '', 'id': 85, 'name': 'Clean Paper Plate'},\n",
       " {'supercategory': '', 'id': 86, 'name': 'Colored Memo Note'},\n",
       " {'supercategory': '', 'id': 87, 'name': 'Office Folder'},\n",
       " {'supercategory': '', 'id': 88, 'name': 'Paper Roll'},\n",
       " {'supercategory': '', 'id': 118, 'name': 'Wrapping Paper'},\n",
       " {'supercategory': '', 'id': 119, 'name': 'Other Clean Paper'},\n",
       " {'supercategory': '', 'id': 128, 'name': 'Small Paper Packets'},\n",
       " {'supercategory': '', 'id': 129, 'name': 'Paper Straw'},\n",
       " {'supercategory': '', 'id': 89, 'name': 'Plastic Drink Bottle'},\n",
       " {'supercategory': '',\n",
       "  'id': 91,\n",
       "  'name': 'Plastic Milk Jug or Personal Care Bottle'},\n",
       " {'supercategory': '', 'id': 92, 'name': 'Clean Plastic Film'},\n",
       " {'supercategory': '', 'id': 93, 'name': 'Yogurt Tub or Container'},\n",
       " {'supercategory': '', 'id': 94, 'name': 'Expanded Polystyrene (styrofoam)'},\n",
       " {'supercategory': '', 'id': 95, 'name': 'Other Clean Plastics (rigid)'},\n",
       " {'supercategory': '', 'id': 96, 'name': 'Plastic Straws'},\n",
       " {'supercategory': '', 'id': 97, 'name': 'Clear Clamshell Container'},\n",
       " {'supercategory': '', 'id': 98, 'name': 'Plastic Cutlery'},\n",
       " {'supercategory': '', 'id': 99, 'name': 'Plastic Lid except black'},\n",
       " {'supercategory': '', 'id': 100, 'name': 'Plastic Coffee Stirrer'},\n",
       " {'supercategory': '', 'id': 101, 'name': 'Clear Plastic Cup'},\n",
       " {'supercategory': '', 'id': 102, 'name': 'Colored Plastic Cup'},\n",
       " {'supercategory': '', 'id': 103, 'name': 'Black Plastic'},\n",
       " {'supercategory': '', 'id': 107, 'name': 'Bubble Wrap'},\n",
       " {'supercategory': '', 'id': 109, 'name': 'Incandescent Lightbulbs'},\n",
       " {'supercategory': '', 'id': 110, 'name': 'CFL Lightbulbs'},\n",
       " {'supercategory': '', 'id': 112, 'name': 'Textiles and Clothes'}]"
      ]
     },
     "execution_count": 15,
     "metadata": {},
     "output_type": "execute_result"
    }
   ],
   "source": [
    "dataDir='./cocojson'\n",
    "dataType='val'\n",
    "anyFile='{}/Trash_fff14e69-6e95-4528-833a-8e4579fe3004_7127adab-9712-405b-a0ff-79264b53b6a5_4b1bd61e-f725-4b3f-b4a3-0fd818f5c087.json'.format(dataDir,dataType)\n",
    "\n",
    "# Pulls json format with IDs from a file within the dataset\n",
    "coco=COCO(anyFile)\n",
    "\n",
    "# Loads the categories\n",
    "catIDs = coco.getCatIds()\n",
    "cats = coco.loadCats(catIDs)\n",
    "cats"
   ]
  },
  {
   "cell_type": "code",
   "execution_count": 17,
   "id": "32e375d4-367c-4c0d-bcc4-314d899ffb16",
   "metadata": {},
   "outputs": [
    {
     "data": {
      "text/plain": [
       "[1, 5]"
      ]
     },
     "execution_count": 17,
     "metadata": {},
     "output_type": "execute_result"
    }
   ],
   "source": [
    "filterClasses = ['Paper Cup', 'Wax Paper']\n",
    "catIds = coco.getCatIds(catNms=filterClasses) \n",
    "catIds\n",
    "imgIds = coco.getImgIds(catIds=['1'])\n",
    "imgIds"
   ]
  },
  {
   "cell_type": "code",
   "execution_count": null,
   "id": "aaf01f27-8807-4cde-af5a-15a5df4154d9",
   "metadata": {},
   "outputs": [],
   "source": []
  }
 ],
 "metadata": {
  "kernelspec": {
   "display_name": "Python 3 (ipykernel)",
   "language": "python",
   "name": "python3"
  },
  "language_info": {
   "codemirror_mode": {
    "name": "ipython",
    "version": 3
   },
   "file_extension": ".py",
   "mimetype": "text/x-python",
   "name": "python",
   "nbconvert_exporter": "python",
   "pygments_lexer": "ipython3",
   "version": "3.12.7"
  }
 },
 "nbformat": 4,
 "nbformat_minor": 5
}

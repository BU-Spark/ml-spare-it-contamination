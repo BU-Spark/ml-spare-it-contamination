{
  "cells": [
    {
      "cell_type": "markdown",
      "metadata": {
        "id": "cK6m7W3h-9nv"
      },
      "source": [
        "## Description\n",
        "\n",
        "Exploring the TACO dataset (https://github.com/pedropro/TACO/tree/master) and transforming it into the format Spare-it uses (each entry in TACO has only one segmentation, and an image that has multiple pieces of trash would have multiple corresponding entries)."
      ]
    },
    {
      "cell_type": "markdown",
      "metadata": {
        "id": "lzumeVik_MS8"
      },
      "source": [
        "Examining the TACO Dataset:"
      ]
    },
    {
      "cell_type": "code",
      "execution_count": 45,
      "metadata": {
        "id": "ZBAvjw22_Uot"
      },
      "outputs": [],
      "source": [
        "import json\n",
        "import requests\n",
        "\n",
        "url = \"https://raw.githubusercontent.com/pedropro/TACO/refs/heads/master/data/annotations.json\"\n",
        "response = requests.get(url)\n",
        "data = response.json()"
      ]
    },
    {
      "cell_type": "code",
      "execution_count": 46,
      "metadata": {
        "id": "xmUwaT_oJ7B8"
      },
      "outputs": [],
      "source": [
        "def print_json_keys(data, indent=0, seen=None):\n",
        "    if seen is None:\n",
        "        seen = set()  # Initialize a set to keep track of seen structures\n",
        "\n",
        "    # Handle dictionaries\n",
        "    if isinstance(data, dict):\n",
        "        keys_tuple = tuple(data.keys())  # Use a tuple of keys to identify unique structures\n",
        "        if keys_tuple in seen:\n",
        "            return  # Skip if this structure has already been printed\n",
        "        seen.add(keys_tuple)  # Add the structure to the set\n",
        "\n",
        "        for key in data.keys():\n",
        "            print('  ' * indent + str(key))\n",
        "            print_json_keys(data[key], indent + 1, seen)\n",
        "\n",
        "    # Handle lists\n",
        "    elif isinstance(data, list):\n",
        "        # Detect continuous ranges\n",
        "        if len(data) > 1:\n",
        "            print('  ' * indent + f\"[{0} - {len(data) - 1}]\")  # Print the range\n",
        "        else:\n",
        "            for index in range(len(data)):\n",
        "                print('  ' * indent + f\"[{index}]\")  # Print individual index if only one\n",
        "\n",
        "        for item in data:\n",
        "            print_json_keys(item, indent + 1, seen)\n"
      ]
    },
    {
      "cell_type": "code",
      "execution_count": 47,
      "metadata": {
        "colab": {
          "base_uri": "https://localhost:8080/"
        },
        "id": "QuMOaIKfJ7Ze",
        "outputId": "81b9dd12-6ece-49ab-af62-b359c0db7175"
      },
      "outputs": [
        {
          "name": "stdout",
          "output_type": "stream",
          "text": [
            "info\n",
            "  year\n",
            "  version\n",
            "  description\n",
            "  contributor\n",
            "  url\n",
            "  date_created\n",
            "images\n",
            "  [0 - 1499]\n",
            "    id\n",
            "    width\n",
            "    height\n",
            "    file_name\n",
            "    license\n",
            "    flickr_url\n",
            "    coco_url\n",
            "    date_captured\n",
            "    flickr_640_url\n",
            "    id\n",
            "    width\n",
            "    height\n",
            "    file_name\n",
            "    license\n",
            "    flickr_url\n",
            "    flickr_640_url\n",
            "    coco_url\n",
            "    date_captured\n",
            "annotations\n",
            "  [0 - 4783]\n",
            "    id\n",
            "    image_id\n",
            "    category_id\n",
            "    segmentation\n",
            "      [0]\n",
            "        [0 - 157]\n",
            "    area\n",
            "    bbox\n",
            "      [0 - 3]\n",
            "    iscrowd\n",
            "scene_annotations\n",
            "  [0 - 4295]\n",
            "    image_id\n",
            "    background_ids\n",
            "      [0]\n",
            "licenses\n",
            "categories\n",
            "  [0 - 59]\n",
            "    supercategory\n",
            "    id\n",
            "    name\n",
            "scene_categories\n",
            "  [0 - 6]\n",
            "    id\n",
            "    name\n"
          ]
        }
      ],
      "source": [
        "print_json_keys(data)"
      ]
    },
    {
      "cell_type": "code",
      "execution_count": 20,
      "metadata": {
        "colab": {
          "base_uri": "https://localhost:8080/"
        },
        "id": "L13qeRSbJ7fE",
        "outputId": "2af2e3b7-90e3-4085-c9b8-71f89ddbd229"
      },
      "outputs": [
        {
          "data": {
            "text/plain": [
              "{'image_id': 0, 'background_ids': [1]}"
            ]
          },
          "execution_count": 20,
          "metadata": {},
          "output_type": "execute_result"
        }
      ],
      "source": [
        "data[\"scene_annotations\"][0]"
      ]
    },
    {
      "cell_type": "code",
      "execution_count": 8,
      "metadata": {
        "colab": {
          "base_uri": "https://localhost:8080/"
        },
        "id": "FEHD9xpYJ7h2",
        "outputId": "c33dd210-03eb-493b-b0e0-5ccd06066de1"
      },
      "outputs": [
        {
          "data": {
            "text/plain": [
              "{'supercategory': 'Pop tab', 'id': 50, 'name': 'Pop tab'}"
            ]
          },
          "execution_count": 8,
          "metadata": {},
          "output_type": "execute_result"
        }
      ],
      "source": [
        "data[\"categories\"][50]"
      ]
    },
    {
      "cell_type": "code",
      "execution_count": 24,
      "metadata": {
        "colab": {
          "base_uri": "https://localhost:8080/"
        },
        "id": "Pi_SfKomJ7ki",
        "outputId": "828c9b14-2871-4f75-8189-32a33f35d098"
      },
      "outputs": [
        {
          "data": {
            "text/plain": [
              "{'id': 0, 'name': 'Clean'}"
            ]
          },
          "execution_count": 24,
          "metadata": {},
          "output_type": "execute_result"
        }
      ],
      "source": [
        "data[\"scene_categories\"][0]"
      ]
    },
    {
      "cell_type": "code",
      "execution_count": 26,
      "metadata": {
        "colab": {
          "base_uri": "https://localhost:8080/"
        },
        "id": "vB4dnT7I5_Qn",
        "outputId": "b42df875-57b7-4ecd-8e71-eae109d58ab9"
      },
      "outputs": [
        {
          "data": {
            "text/plain": [
              "{'year': 2019,\n",
              " 'version': None,\n",
              " 'description': 'TACO',\n",
              " 'contributor': None,\n",
              " 'url': None,\n",
              " 'date_created': '2019-12-19T16:11:15.258399+00:00'}"
            ]
          },
          "execution_count": 26,
          "metadata": {},
          "output_type": "execute_result"
        }
      ],
      "source": [
        "data[\"info\"]"
      ]
    },
    {
      "cell_type": "code",
      "execution_count": 32,
      "metadata": {
        "colab": {
          "base_uri": "https://localhost:8080/"
        },
        "id": "TIlSWto56YRx",
        "outputId": "8408208b-b3ce-4518-a74a-1a36c57fa428"
      },
      "outputs": [
        {
          "data": {
            "text/plain": [
              "[]"
            ]
          },
          "execution_count": 32,
          "metadata": {},
          "output_type": "execute_result"
        }
      ],
      "source": [
        "data[\"licenses\"]"
      ]
    },
    {
      "cell_type": "code",
      "execution_count": 37,
      "metadata": {
        "colab": {
          "base_uri": "https://localhost:8080/"
        },
        "id": "R-frSyacJ7cS",
        "outputId": "42b09769-1b06-455c-fc8c-82594357d531"
      },
      "outputs": [
        {
          "data": {
            "text/plain": [
              "{'id': 1,\n",
              " 'image_id': 0,\n",
              " 'category_id': 6,\n",
              " 'segmentation': [[561.0,\n",
              "   1238.0,\n",
              "   568.0,\n",
              "   1201.0,\n",
              "   567.0,\n",
              "   1175.0,\n",
              "   549.0,\n",
              "   1127.0,\n",
              "   538.0,\n",
              "   1089.0,\n",
              "   519.0,\n",
              "   1043.0,\n",
              "   517.0,\n",
              "   1005.0,\n",
              "   523.0,\n",
              "   964.0,\n",
              "   529.0,\n",
              "   945.0,\n",
              "   520.0,\n",
              "   896.0,\n",
              "   525.0,\n",
              "   862.0,\n",
              "   536.0,\n",
              "   821.0,\n",
              "   554.0,\n",
              "   769.0,\n",
              "   577.0,\n",
              "   727.0,\n",
              "   595.0,\n",
              "   678.0,\n",
              "   596.0,\n",
              "   585.0,\n",
              "   588.0,\n",
              "   346.0,\n",
              "   581.0,\n",
              "   328.0,\n",
              "   569.0,\n",
              "   306.0,\n",
              "   570.0,\n",
              "   276.0,\n",
              "   576.0,\n",
              "   224.0,\n",
              "   560.0,\n",
              "   205.0,\n",
              "   564.0,\n",
              "   170.0,\n",
              "   578.0,\n",
              "   154.0,\n",
              "   608.0,\n",
              "   136.0,\n",
              "   649.0,\n",
              "   127.0,\n",
              "   688.0,\n",
              "   127.0,\n",
              "   726.0,\n",
              "   129.0,\n",
              "   759.0,\n",
              "   141.0,\n",
              "   784.0,\n",
              "   153.0,\n",
              "   792.0,\n",
              "   177.0,\n",
              "   788.0,\n",
              "   193.0,\n",
              "   782.0,\n",
              "   209.0,\n",
              "   792.0,\n",
              "   238.0,\n",
              "   802.0,\n",
              "   271.0,\n",
              "   802.0,\n",
              "   294.0,\n",
              "   791.0,\n",
              "   319.0,\n",
              "   789.0,\n",
              "   360.0,\n",
              "   794.0,\n",
              "   395.0,\n",
              "   810.0,\n",
              "   529.0,\n",
              "   819.0,\n",
              "   609.0,\n",
              "   841.0,\n",
              "   675.0,\n",
              "   882.0,\n",
              "   728.0,\n",
              "   916.0,\n",
              "   781.0,\n",
              "   928.0,\n",
              "   802.0,\n",
              "   938.0,\n",
              "   834.0,\n",
              "   940.0,\n",
              "   856.0,\n",
              "   939.0,\n",
              "   873.0,\n",
              "   938.0,\n",
              "   884.0,\n",
              "   944.0,\n",
              "   901.0,\n",
              "   951.0,\n",
              "   917.0,\n",
              "   956.0,\n",
              "   942.0,\n",
              "   960.0,\n",
              "   972.0,\n",
              "   964.0,\n",
              "   1013.0,\n",
              "   959.0,\n",
              "   1036.0,\n",
              "   952.0,\n",
              "   1081.0,\n",
              "   952.0,\n",
              "   1106.0,\n",
              "   934.0,\n",
              "   1163.0,\n",
              "   935.0,\n",
              "   1174.0,\n",
              "   949.0,\n",
              "   1209.0,\n",
              "   954.0,\n",
              "   1235.0,\n",
              "   952.0,\n",
              "   1273.0,\n",
              "   953.0,\n",
              "   1296.0,\n",
              "   946.0,\n",
              "   1320.0,\n",
              "   930.0,\n",
              "   1347.0,\n",
              "   914.0,\n",
              "   1367.0,\n",
              "   898.0,\n",
              "   1388.0,\n",
              "   855.0,\n",
              "   1419.0,\n",
              "   821.0,\n",
              "   1437.0,\n",
              "   769.0,\n",
              "   1449.0,\n",
              "   728.0,\n",
              "   1448.0,\n",
              "   687.0,\n",
              "   1439.0,\n",
              "   645.0,\n",
              "   1419.0,\n",
              "   618.0,\n",
              "   1397.0,\n",
              "   582.0,\n",
              "   1348.0,\n",
              "   572.0,\n",
              "   1314.0,\n",
              "   564.0,\n",
              "   1279.0,\n",
              "   561.0,\n",
              "   1253.0,\n",
              "   561.0,\n",
              "   1238.0]],\n",
              " 'area': 403954.0,\n",
              " 'bbox': [517.0, 127.0, 447.0, 1322.0],\n",
              " 'iscrowd': 0}"
            ]
          },
          "execution_count": 37,
          "metadata": {},
          "output_type": "execute_result"
        }
      ],
      "source": [
        "data[\"annotations\"][0]"
      ]
    },
    {
      "cell_type": "markdown",
      "metadata": {
        "id": "rDvMHcQXPfwf"
      },
      "source": [
        "Transforming the TACO data and saving:"
      ]
    },
    {
      "cell_type": "code",
      "execution_count": 42,
      "metadata": {
        "id": "KaebN2v799H7"
      },
      "outputs": [],
      "source": [
        "import json\n",
        "import os\n",
        "import datetime\n",
        "from collections import defaultdict\n",
        "\n",
        "def save_json(data, file_name, output_directory=\"transformed TACO annotations\"):\n",
        "    \"\"\"\n",
        "    Saves a JSON file to the specified output directory.\n",
        "    \"\"\"\n",
        "    if not os.path.exists(output_directory):\n",
        "        os.makedirs(output_directory)\n",
        "\n",
        "    file_path = os.path.join(output_directory, file_name)\n",
        "    with open(file_path, 'w') as json_file:\n",
        "        json.dump(data, json_file, indent=4)\n"
      ]
    },
    {
      "cell_type": "code",
      "execution_count": 43,
      "metadata": {
        "id": "TE-8Zqu999Kb"
      },
      "outputs": [],
      "source": [
        "def map_and_transform(taco_instance):\n",
        "    \"\"\"\n",
        "    Transforms the entire TACO JSON into individual JSON files in spare-it format.\n",
        "    Creates and saves a separate JSON file for each image.\n",
        "    \"\"\"\n",
        "    # Current timestamp for date_created\n",
        "    current_time = datetime.datetime.now().isoformat()\n",
        "\n",
        "    # Step 1: Create a mapping from image_id to image information\n",
        "    image_id_to_image = {image['id']: image for image in taco_instance['images']}\n",
        "\n",
        "    # Step 2: Collect annotations for each image_id\n",
        "    image_id_to_annotations = defaultdict(list)\n",
        "    for annotation in taco_instance['annotations']:\n",
        "        image_id = annotation['image_id']\n",
        "        image_id_to_annotations[image_id].append(annotation)\n",
        "\n",
        "    # Step 3: Process each image and its corresponding annotations\n",
        "    for image_id, image_data in image_id_to_image.items():\n",
        "        # Prepare the Structure A for this specific image\n",
        "        spareit_JSON = {\n",
        "            \"info\": {#same for all images\n",
        "                \"description\": \"Transformed TACO annotation\",\n",
        "                \"url\": \"\",\n",
        "                \"version\": \"\",\n",
        "                \"year\": 2019,\n",
        "                \"contributor\": \"\",\n",
        "                \"date_created\": current_time\n",
        "            },\n",
        "            \"licenses\": #same as spareit dataset\n",
        "        [{\n",
        "              \"url\": \"\",\n",
        "              \"id\": 0,\n",
        "              \"name\": \"\"\n",
        "        }],\n",
        "            \"images\": [],\n",
        "            \"type\": \"instances\",\n",
        "            \"annotations\": [],\n",
        "            \"categories\": taco_instance.get(\"categories\", []) #Todo: map categories\n",
        "        }\n",
        "\n",
        "        # Transform the image data for Structure A\n",
        "        transformed_image = {\n",
        "            'license': 0,\n",
        "            'url': image_data.get('coco_url', \"\"),\n",
        "            'file_name': image_data.get('file_name', \"placeholder_file_name.jpg\"),\n",
        "            'height': image_data.get('height', 0),\n",
        "            'width': image_data.get('width', 0),\n",
        "            'date_captured': image_data.get('date_captured', \"\"),\n",
        "            'id': image_id\n",
        "        }\n",
        "        spareit_JSON['images'].append(transformed_image)\n",
        "\n",
        "        # Add the corresponding annotations for this image\n",
        "        annotation_id = 0\n",
        "        for annotation in image_id_to_annotations[image_id]:\n",
        "            transformed_annotation = {\n",
        "                'id': annotation_id,# same as spareit dataset\n",
        "                'image_id': 0, # 0 for all, same as spareit dataset\n",
        "                'category_id': annotation['category_id'], #Todo: map categories\n",
        "                'segmentation': annotation['segmentation'],\n",
        "                'area': annotation['area'],\n",
        "                'bbox': annotation['bbox'],\n",
        "                'iscrowd': annotation['iscrowd']\n",
        "            }\n",
        "            spareit_JSON['annotations'].append(transformed_annotation)\n",
        "            annotation_id += 1\n",
        "        # Step 4: Save the Structure A for this image as an individual JSON file\n",
        "        image_file_name = f\"image_{image_id}.json\"\n",
        "        save_json(spareit_JSON, image_file_name)\n"
      ]
    },
    {
      "cell_type": "code",
      "execution_count": 44,
      "metadata": {
        "id": "eLKNWE-8-bwH"
      },
      "outputs": [],
      "source": [
        "map_and_transform(data)"
      ]
    }
  ],
  "metadata": {
    "colab": {
      "provenance": []
    },
    "kernelspec": {
      "display_name": "Python 3",
      "name": "python3"
    },
    "language_info": {
      "name": "python"
    }
  },
  "nbformat": 4,
  "nbformat_minor": 0
}

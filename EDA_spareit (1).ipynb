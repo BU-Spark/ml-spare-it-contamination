{
  "nbformat": 4,
  "nbformat_minor": 0,
  "metadata": {
    "colab": {
      "provenance": []
    },
    "kernelspec": {
      "name": "python3",
      "display_name": "Python 3"
    },
    "language_info": {
      "name": "python"
    }
  },
  "cells": [
    {
      "cell_type": "markdown",
      "source": [
        "# Examining the GINI Dataset\n",
        "The GINI dataset (https://github.com/spotgarbage/spotgarbage-GINI) contains labeled garbage images used for training models in waste detection. For this project, adding more data will helps improve classification accuracy when transforming trash data into the Spare-it format."
      ],
      "metadata": {
        "id": "rg1OR4Meu-6h"
      }
    },
    {
      "cell_type": "code",
      "execution_count": null,
      "metadata": {
        "id": "w4hlxVHnuTda"
      },
      "outputs": [],
      "source": [
        "import pandas as pd\n",
        "import json\n",
        "import os\n",
        "from collections import defaultdict\n",
        "import datetime\n",
        "\n",
        "\n",
        "csv_file = 'garbage-queried-images.csv'  # Path to your CSV file\n",
        "data = pd.read_csv(csv_file)\n",
        "\n",
        "output_directory = 'transformed_spotgarbage_annotations'\n",
        "if not os.path.exists(output_directory):\n",
        "    os.makedirs(output_directory)\n",
        "\n",
        "def transform_and_save(data):\n",
        "    # Create a unique image_id to annotation map\n",
        "    image_id_to_annotations = defaultdict(list)\n",
        "\n",
        "    for _, row in data.iterrows():\n",
        "        image_id = row['image']\n",
        "        label = row['label']\n",
        "        bbox = [row['startX'], row['startY'], row['endX'], row['endY']] if not pd.isna(row['startX']) else []\n",
        "\n",
        "        # Create an annotation object for each row\n",
        "        annotation = {\n",
        "            'category_id': 1 if row['label'] == 1 else 0,\n",
        "            'bbox': bbox,\n",
        "            'area': (bbox[2] - bbox[0]) * (bbox[3] - bbox[1]) if bbox else 0,\n",
        "            'iscrowd': 0,\n",
        "            'segmentation': [],\n",
        "            'id': len(image_id_to_annotations[image_id])  # Unique annotation ID\n",
        "        }\n",
        "        image_id_to_annotations[image_id].append(annotation)\n",
        "\n",
        "    # Save the data in Spare-it format\n",
        "    for image_id, annotations in image_id_to_annotations.items():\n",
        "        spareit_json = {\n",
        "            'info': {\n",
        "                'description': 'Transformed SpotGarbage GINI annotation',\n",
        "                'version': '1.0',\n",
        "                'year': 2024,\n",
        "                'contributor': 'User',\n",
        "                'date_created': datetime.datetime.now().isoformat()\n",
        "            },\n",
        "            'licenses': [{\n",
        "                'url': '',\n",
        "                'id': 0,\n",
        "                'name': ''\n",
        "            }],\n",
        "            'images': [{\n",
        "                'license': 0,\n",
        "                'url': '',\n",
        "                'file_name': image_id,\n",
        "                'height': 0,\n",
        "                'width': 0,\n",
        "                'date_captured': ''\n",
        "            }],\n",
        "            'annotations': annotations,\n",
        "            'categories': [{\n",
        "                'id': 1,\n",
        "                'name': 'garbage',\n",
        "                'supercategory': 'waste'\n",
        "            }]\n",
        "        }\n",
        "\n",
        "        # Save each image's annotations as a separate JSON file\n",
        "        file_name = os.path.join(output_directory, f'{image_id}.json')\n",
        "        with open(file_name, 'w') as json_file:\n",
        "            json.dump(spareit_json, json_file, indent=4)\n",
        "\n",
        "# Transform and save the CSV data\n",
        "transform_and_save(data)\n"
      ]
    }
  ]
}